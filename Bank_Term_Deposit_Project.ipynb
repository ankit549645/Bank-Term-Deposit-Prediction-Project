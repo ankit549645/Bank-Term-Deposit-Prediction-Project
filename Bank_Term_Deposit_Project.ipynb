{
  "nbformat": 4,
  "nbformat_minor": 0,
  "metadata": {
    "colab": {
      "name": "Bank Term Deposit Project.ipynb",
      "provenance": [],
      "collapsed_sections": []
    },
    "kernelspec": {
      "name": "python3",
      "display_name": "Python 3"
    },
    "language_info": {
      "name": "python"
    },
    "accelerator": "GPU"
  },
  "cells": [
    {
      "cell_type": "markdown",
      "metadata": {
        "id": "IjSEcSrx8c1X"
      },
      "source": [
        "## Mount"
      ]
    },
    {
      "cell_type": "code",
      "metadata": {
        "colab": {
          "base_uri": "https://localhost:8080/"
        },
        "id": "ilCEoIo77AxJ",
        "outputId": "941af730-de14-477b-8b47-d64b31ec9ec3"
      },
      "source": [
        "from google.colab import drive\n",
        "drive.mount('/content/gdrive')"
      ],
      "execution_count": null,
      "outputs": [
        {
          "output_type": "stream",
          "name": "stdout",
          "text": [
            "Mounted at /content/gdrive\n"
          ]
        }
      ]
    },
    {
      "cell_type": "code",
      "metadata": {
        "id": "q1CPzcHC8lLB"
      },
      "source": [
        "import numpy as np\n",
        "import pandas as pd\n",
        "import matplotlib.pyplot as plt\n",
        "import seaborn as sns"
      ],
      "execution_count": null,
      "outputs": []
    },
    {
      "cell_type": "code",
      "metadata": {
        "id": "ohwV0xXkNiK1"
      },
      "source": [
        "df=pd.read_csv(\"/content/bank.csv\")"
      ],
      "execution_count": null,
      "outputs": []
    },
    {
      "cell_type": "code",
      "metadata": {
        "colab": {
          "base_uri": "https://localhost:8080/"
        },
        "id": "Pvz27BKoNv1I",
        "outputId": "fc0549bf-7beb-439e-98c7-8746d703169b"
      },
      "source": [
        "df.shape"
      ],
      "execution_count": null,
      "outputs": [
        {
          "output_type": "execute_result",
          "data": {
            "text/plain": [
              "(41188, 21)"
            ]
          },
          "metadata": {},
          "execution_count": 7
        }
      ]
    },
    {
      "cell_type": "code",
      "metadata": {
        "colab": {
          "base_uri": "https://localhost:8080/",
          "height": 226
        },
        "id": "arI41D0uNxSZ",
        "outputId": "014a2bea-2398-4f8d-85ec-0a340c15cca8"
      },
      "source": [
        "df.head()"
      ],
      "execution_count": null,
      "outputs": [
        {
          "output_type": "execute_result",
          "data": {
            "text/html": [
              "<div>\n",
              "<style scoped>\n",
              "    .dataframe tbody tr th:only-of-type {\n",
              "        vertical-align: middle;\n",
              "    }\n",
              "\n",
              "    .dataframe tbody tr th {\n",
              "        vertical-align: top;\n",
              "    }\n",
              "\n",
              "    .dataframe thead th {\n",
              "        text-align: right;\n",
              "    }\n",
              "</style>\n",
              "<table border=\"1\" class=\"dataframe\">\n",
              "  <thead>\n",
              "    <tr style=\"text-align: right;\">\n",
              "      <th></th>\n",
              "      <th>age</th>\n",
              "      <th>job</th>\n",
              "      <th>marital</th>\n",
              "      <th>education</th>\n",
              "      <th>default</th>\n",
              "      <th>housing</th>\n",
              "      <th>loan</th>\n",
              "      <th>contact</th>\n",
              "      <th>month</th>\n",
              "      <th>day_of_week</th>\n",
              "      <th>duration</th>\n",
              "      <th>campaign</th>\n",
              "      <th>pdays</th>\n",
              "      <th>previous</th>\n",
              "      <th>poutcome</th>\n",
              "      <th>emp_var_rate</th>\n",
              "      <th>cons_price_idx</th>\n",
              "      <th>cons_conf_idx</th>\n",
              "      <th>euribor3m</th>\n",
              "      <th>nr_employed</th>\n",
              "      <th>y</th>\n",
              "    </tr>\n",
              "  </thead>\n",
              "  <tbody>\n",
              "    <tr>\n",
              "      <th>0</th>\n",
              "      <td>44</td>\n",
              "      <td>blue-collar</td>\n",
              "      <td>married</td>\n",
              "      <td>basic.4y</td>\n",
              "      <td>unknown</td>\n",
              "      <td>yes</td>\n",
              "      <td>no</td>\n",
              "      <td>cellular</td>\n",
              "      <td>aug</td>\n",
              "      <td>thu</td>\n",
              "      <td>210</td>\n",
              "      <td>1</td>\n",
              "      <td>999</td>\n",
              "      <td>0</td>\n",
              "      <td>nonexistent</td>\n",
              "      <td>1.4</td>\n",
              "      <td>93.444</td>\n",
              "      <td>-36.1</td>\n",
              "      <td>4.963</td>\n",
              "      <td>5228.1</td>\n",
              "      <td>0</td>\n",
              "    </tr>\n",
              "    <tr>\n",
              "      <th>1</th>\n",
              "      <td>53</td>\n",
              "      <td>technician</td>\n",
              "      <td>married</td>\n",
              "      <td>unknown</td>\n",
              "      <td>no</td>\n",
              "      <td>no</td>\n",
              "      <td>no</td>\n",
              "      <td>cellular</td>\n",
              "      <td>nov</td>\n",
              "      <td>fri</td>\n",
              "      <td>138</td>\n",
              "      <td>1</td>\n",
              "      <td>999</td>\n",
              "      <td>0</td>\n",
              "      <td>nonexistent</td>\n",
              "      <td>-0.1</td>\n",
              "      <td>93.200</td>\n",
              "      <td>-42.0</td>\n",
              "      <td>4.021</td>\n",
              "      <td>5195.8</td>\n",
              "      <td>0</td>\n",
              "    </tr>\n",
              "    <tr>\n",
              "      <th>2</th>\n",
              "      <td>28</td>\n",
              "      <td>management</td>\n",
              "      <td>single</td>\n",
              "      <td>university.degree</td>\n",
              "      <td>no</td>\n",
              "      <td>yes</td>\n",
              "      <td>no</td>\n",
              "      <td>cellular</td>\n",
              "      <td>jun</td>\n",
              "      <td>thu</td>\n",
              "      <td>339</td>\n",
              "      <td>3</td>\n",
              "      <td>6</td>\n",
              "      <td>2</td>\n",
              "      <td>success</td>\n",
              "      <td>-1.7</td>\n",
              "      <td>94.055</td>\n",
              "      <td>-39.8</td>\n",
              "      <td>0.729</td>\n",
              "      <td>4991.6</td>\n",
              "      <td>1</td>\n",
              "    </tr>\n",
              "    <tr>\n",
              "      <th>3</th>\n",
              "      <td>39</td>\n",
              "      <td>services</td>\n",
              "      <td>married</td>\n",
              "      <td>high.school</td>\n",
              "      <td>no</td>\n",
              "      <td>no</td>\n",
              "      <td>no</td>\n",
              "      <td>cellular</td>\n",
              "      <td>apr</td>\n",
              "      <td>fri</td>\n",
              "      <td>185</td>\n",
              "      <td>2</td>\n",
              "      <td>999</td>\n",
              "      <td>0</td>\n",
              "      <td>nonexistent</td>\n",
              "      <td>-1.8</td>\n",
              "      <td>93.075</td>\n",
              "      <td>-47.1</td>\n",
              "      <td>1.405</td>\n",
              "      <td>5099.1</td>\n",
              "      <td>0</td>\n",
              "    </tr>\n",
              "    <tr>\n",
              "      <th>4</th>\n",
              "      <td>55</td>\n",
              "      <td>retired</td>\n",
              "      <td>married</td>\n",
              "      <td>basic.4y</td>\n",
              "      <td>no</td>\n",
              "      <td>yes</td>\n",
              "      <td>no</td>\n",
              "      <td>cellular</td>\n",
              "      <td>aug</td>\n",
              "      <td>fri</td>\n",
              "      <td>137</td>\n",
              "      <td>1</td>\n",
              "      <td>3</td>\n",
              "      <td>1</td>\n",
              "      <td>success</td>\n",
              "      <td>-2.9</td>\n",
              "      <td>92.201</td>\n",
              "      <td>-31.4</td>\n",
              "      <td>0.869</td>\n",
              "      <td>5076.2</td>\n",
              "      <td>1</td>\n",
              "    </tr>\n",
              "  </tbody>\n",
              "</table>\n",
              "</div>"
            ],
            "text/plain": [
              "   age          job  marital  ... euribor3m nr_employed  y\n",
              "0   44  blue-collar  married  ...     4.963      5228.1  0\n",
              "1   53   technician  married  ...     4.021      5195.8  0\n",
              "2   28   management   single  ...     0.729      4991.6  1\n",
              "3   39     services  married  ...     1.405      5099.1  0\n",
              "4   55      retired  married  ...     0.869      5076.2  1\n",
              "\n",
              "[5 rows x 21 columns]"
            ]
          },
          "metadata": {},
          "execution_count": 8
        }
      ]
    },
    {
      "cell_type": "code",
      "metadata": {
        "colab": {
          "base_uri": "https://localhost:8080/",
          "height": 320
        },
        "id": "NwEVclqsNzOP",
        "outputId": "a17154a6-0d52-4b5b-9b61-6635cb7a2443"
      },
      "source": [
        "df.describe()"
      ],
      "execution_count": null,
      "outputs": [
        {
          "output_type": "execute_result",
          "data": {
            "text/html": [
              "<div>\n",
              "<style scoped>\n",
              "    .dataframe tbody tr th:only-of-type {\n",
              "        vertical-align: middle;\n",
              "    }\n",
              "\n",
              "    .dataframe tbody tr th {\n",
              "        vertical-align: top;\n",
              "    }\n",
              "\n",
              "    .dataframe thead th {\n",
              "        text-align: right;\n",
              "    }\n",
              "</style>\n",
              "<table border=\"1\" class=\"dataframe\">\n",
              "  <thead>\n",
              "    <tr style=\"text-align: right;\">\n",
              "      <th></th>\n",
              "      <th>age</th>\n",
              "      <th>duration</th>\n",
              "      <th>campaign</th>\n",
              "      <th>pdays</th>\n",
              "      <th>previous</th>\n",
              "      <th>emp_var_rate</th>\n",
              "      <th>cons_price_idx</th>\n",
              "      <th>cons_conf_idx</th>\n",
              "      <th>euribor3m</th>\n",
              "      <th>nr_employed</th>\n",
              "      <th>y</th>\n",
              "    </tr>\n",
              "  </thead>\n",
              "  <tbody>\n",
              "    <tr>\n",
              "      <th>count</th>\n",
              "      <td>41188.00000</td>\n",
              "      <td>41188.000000</td>\n",
              "      <td>41188.000000</td>\n",
              "      <td>41188.000000</td>\n",
              "      <td>41188.000000</td>\n",
              "      <td>41188.000000</td>\n",
              "      <td>41188.000000</td>\n",
              "      <td>41188.000000</td>\n",
              "      <td>41188.000000</td>\n",
              "      <td>41188.000000</td>\n",
              "      <td>41188.000000</td>\n",
              "    </tr>\n",
              "    <tr>\n",
              "      <th>mean</th>\n",
              "      <td>40.02406</td>\n",
              "      <td>258.285010</td>\n",
              "      <td>2.567593</td>\n",
              "      <td>962.475454</td>\n",
              "      <td>0.172963</td>\n",
              "      <td>0.081886</td>\n",
              "      <td>93.575664</td>\n",
              "      <td>-40.502600</td>\n",
              "      <td>3.621291</td>\n",
              "      <td>5167.035911</td>\n",
              "      <td>0.112654</td>\n",
              "    </tr>\n",
              "    <tr>\n",
              "      <th>std</th>\n",
              "      <td>10.42125</td>\n",
              "      <td>259.279249</td>\n",
              "      <td>2.770014</td>\n",
              "      <td>186.910907</td>\n",
              "      <td>0.494901</td>\n",
              "      <td>1.570960</td>\n",
              "      <td>0.578840</td>\n",
              "      <td>4.628198</td>\n",
              "      <td>1.734447</td>\n",
              "      <td>72.251528</td>\n",
              "      <td>0.316173</td>\n",
              "    </tr>\n",
              "    <tr>\n",
              "      <th>min</th>\n",
              "      <td>17.00000</td>\n",
              "      <td>0.000000</td>\n",
              "      <td>1.000000</td>\n",
              "      <td>0.000000</td>\n",
              "      <td>0.000000</td>\n",
              "      <td>-3.400000</td>\n",
              "      <td>92.201000</td>\n",
              "      <td>-50.800000</td>\n",
              "      <td>0.634000</td>\n",
              "      <td>4963.600000</td>\n",
              "      <td>0.000000</td>\n",
              "    </tr>\n",
              "    <tr>\n",
              "      <th>25%</th>\n",
              "      <td>32.00000</td>\n",
              "      <td>102.000000</td>\n",
              "      <td>1.000000</td>\n",
              "      <td>999.000000</td>\n",
              "      <td>0.000000</td>\n",
              "      <td>-1.800000</td>\n",
              "      <td>93.075000</td>\n",
              "      <td>-42.700000</td>\n",
              "      <td>1.344000</td>\n",
              "      <td>5099.100000</td>\n",
              "      <td>0.000000</td>\n",
              "    </tr>\n",
              "    <tr>\n",
              "      <th>50%</th>\n",
              "      <td>38.00000</td>\n",
              "      <td>180.000000</td>\n",
              "      <td>2.000000</td>\n",
              "      <td>999.000000</td>\n",
              "      <td>0.000000</td>\n",
              "      <td>1.100000</td>\n",
              "      <td>93.749000</td>\n",
              "      <td>-41.800000</td>\n",
              "      <td>4.857000</td>\n",
              "      <td>5191.000000</td>\n",
              "      <td>0.000000</td>\n",
              "    </tr>\n",
              "    <tr>\n",
              "      <th>75%</th>\n",
              "      <td>47.00000</td>\n",
              "      <td>319.000000</td>\n",
              "      <td>3.000000</td>\n",
              "      <td>999.000000</td>\n",
              "      <td>0.000000</td>\n",
              "      <td>1.400000</td>\n",
              "      <td>93.994000</td>\n",
              "      <td>-36.400000</td>\n",
              "      <td>4.961000</td>\n",
              "      <td>5228.100000</td>\n",
              "      <td>0.000000</td>\n",
              "    </tr>\n",
              "    <tr>\n",
              "      <th>max</th>\n",
              "      <td>98.00000</td>\n",
              "      <td>4918.000000</td>\n",
              "      <td>56.000000</td>\n",
              "      <td>999.000000</td>\n",
              "      <td>7.000000</td>\n",
              "      <td>1.400000</td>\n",
              "      <td>94.767000</td>\n",
              "      <td>-26.900000</td>\n",
              "      <td>5.045000</td>\n",
              "      <td>5228.100000</td>\n",
              "      <td>1.000000</td>\n",
              "    </tr>\n",
              "  </tbody>\n",
              "</table>\n",
              "</div>"
            ],
            "text/plain": [
              "               age      duration  ...   nr_employed             y\n",
              "count  41188.00000  41188.000000  ...  41188.000000  41188.000000\n",
              "mean      40.02406    258.285010  ...   5167.035911      0.112654\n",
              "std       10.42125    259.279249  ...     72.251528      0.316173\n",
              "min       17.00000      0.000000  ...   4963.600000      0.000000\n",
              "25%       32.00000    102.000000  ...   5099.100000      0.000000\n",
              "50%       38.00000    180.000000  ...   5191.000000      0.000000\n",
              "75%       47.00000    319.000000  ...   5228.100000      0.000000\n",
              "max       98.00000   4918.000000  ...   5228.100000      1.000000\n",
              "\n",
              "[8 rows x 11 columns]"
            ]
          },
          "metadata": {},
          "execution_count": 9
        }
      ]
    },
    {
      "cell_type": "markdown",
      "metadata": {
        "id": "IWhNwjVZN9Gi"
      },
      "source": [
        "## Checking Missing Values\n",
        "No missing values in data"
      ]
    },
    {
      "cell_type": "code",
      "metadata": {
        "colab": {
          "base_uri": "https://localhost:8080/"
        },
        "id": "v3ddJ8CtN2xH",
        "outputId": "9a78357a-51a9-4d8f-c134-5e232308b238"
      },
      "source": [
        "df.isnull().sum()"
      ],
      "execution_count": null,
      "outputs": [
        {
          "output_type": "execute_result",
          "data": {
            "text/plain": [
              "age               0\n",
              "job               0\n",
              "marital           0\n",
              "education         0\n",
              "default           0\n",
              "housing           0\n",
              "loan              0\n",
              "contact           0\n",
              "month             0\n",
              "day_of_week       0\n",
              "duration          0\n",
              "campaign          0\n",
              "pdays             0\n",
              "previous          0\n",
              "poutcome          0\n",
              "emp_var_rate      0\n",
              "cons_price_idx    0\n",
              "cons_conf_idx     0\n",
              "euribor3m         0\n",
              "nr_employed       0\n",
              "y                 0\n",
              "dtype: int64"
            ]
          },
          "metadata": {},
          "execution_count": 10
        }
      ]
    },
    {
      "cell_type": "code",
      "metadata": {
        "colab": {
          "base_uri": "https://localhost:8080/"
        },
        "id": "dd3ZDI5vN7oT",
        "outputId": "f787a3cc-f44e-43bb-e850-5ac92daf1705"
      },
      "source": [
        "df.columns"
      ],
      "execution_count": null,
      "outputs": [
        {
          "output_type": "execute_result",
          "data": {
            "text/plain": [
              "Index(['age', 'job', 'marital', 'education', 'default', 'housing', 'loan',\n",
              "       'contact', 'month', 'day_of_week', 'duration', 'campaign', 'pdays',\n",
              "       'previous', 'poutcome', 'emp_var_rate', 'cons_price_idx',\n",
              "       'cons_conf_idx', 'euribor3m', 'nr_employed', 'y'],\n",
              "      dtype='object')"
            ]
          },
          "metadata": {},
          "execution_count": 11
        }
      ]
    },
    {
      "cell_type": "code",
      "metadata": {
        "colab": {
          "base_uri": "https://localhost:8080/",
          "height": 206
        },
        "id": "hReMn5_FOUYb",
        "outputId": "456dac24-26b9-4b56-e33f-93673792420a"
      },
      "source": [
        "num_data = df.select_dtypes(include='number')\n",
        "num_data.head()"
      ],
      "execution_count": null,
      "outputs": [
        {
          "output_type": "execute_result",
          "data": {
            "text/html": [
              "<div>\n",
              "<style scoped>\n",
              "    .dataframe tbody tr th:only-of-type {\n",
              "        vertical-align: middle;\n",
              "    }\n",
              "\n",
              "    .dataframe tbody tr th {\n",
              "        vertical-align: top;\n",
              "    }\n",
              "\n",
              "    .dataframe thead th {\n",
              "        text-align: right;\n",
              "    }\n",
              "</style>\n",
              "<table border=\"1\" class=\"dataframe\">\n",
              "  <thead>\n",
              "    <tr style=\"text-align: right;\">\n",
              "      <th></th>\n",
              "      <th>age</th>\n",
              "      <th>duration</th>\n",
              "      <th>campaign</th>\n",
              "      <th>pdays</th>\n",
              "      <th>previous</th>\n",
              "      <th>emp_var_rate</th>\n",
              "      <th>cons_price_idx</th>\n",
              "      <th>cons_conf_idx</th>\n",
              "      <th>euribor3m</th>\n",
              "      <th>nr_employed</th>\n",
              "      <th>y</th>\n",
              "    </tr>\n",
              "  </thead>\n",
              "  <tbody>\n",
              "    <tr>\n",
              "      <th>0</th>\n",
              "      <td>44</td>\n",
              "      <td>210</td>\n",
              "      <td>1</td>\n",
              "      <td>999</td>\n",
              "      <td>0</td>\n",
              "      <td>1.4</td>\n",
              "      <td>93.444</td>\n",
              "      <td>-36.1</td>\n",
              "      <td>4.963</td>\n",
              "      <td>5228.1</td>\n",
              "      <td>0</td>\n",
              "    </tr>\n",
              "    <tr>\n",
              "      <th>1</th>\n",
              "      <td>53</td>\n",
              "      <td>138</td>\n",
              "      <td>1</td>\n",
              "      <td>999</td>\n",
              "      <td>0</td>\n",
              "      <td>-0.1</td>\n",
              "      <td>93.200</td>\n",
              "      <td>-42.0</td>\n",
              "      <td>4.021</td>\n",
              "      <td>5195.8</td>\n",
              "      <td>0</td>\n",
              "    </tr>\n",
              "    <tr>\n",
              "      <th>2</th>\n",
              "      <td>28</td>\n",
              "      <td>339</td>\n",
              "      <td>3</td>\n",
              "      <td>6</td>\n",
              "      <td>2</td>\n",
              "      <td>-1.7</td>\n",
              "      <td>94.055</td>\n",
              "      <td>-39.8</td>\n",
              "      <td>0.729</td>\n",
              "      <td>4991.6</td>\n",
              "      <td>1</td>\n",
              "    </tr>\n",
              "    <tr>\n",
              "      <th>3</th>\n",
              "      <td>39</td>\n",
              "      <td>185</td>\n",
              "      <td>2</td>\n",
              "      <td>999</td>\n",
              "      <td>0</td>\n",
              "      <td>-1.8</td>\n",
              "      <td>93.075</td>\n",
              "      <td>-47.1</td>\n",
              "      <td>1.405</td>\n",
              "      <td>5099.1</td>\n",
              "      <td>0</td>\n",
              "    </tr>\n",
              "    <tr>\n",
              "      <th>4</th>\n",
              "      <td>55</td>\n",
              "      <td>137</td>\n",
              "      <td>1</td>\n",
              "      <td>3</td>\n",
              "      <td>1</td>\n",
              "      <td>-2.9</td>\n",
              "      <td>92.201</td>\n",
              "      <td>-31.4</td>\n",
              "      <td>0.869</td>\n",
              "      <td>5076.2</td>\n",
              "      <td>1</td>\n",
              "    </tr>\n",
              "  </tbody>\n",
              "</table>\n",
              "</div>"
            ],
            "text/plain": [
              "   age  duration  campaign  pdays  ...  cons_conf_idx  euribor3m  nr_employed  y\n",
              "0   44       210         1    999  ...          -36.1      4.963       5228.1  0\n",
              "1   53       138         1    999  ...          -42.0      4.021       5195.8  0\n",
              "2   28       339         3      6  ...          -39.8      0.729       4991.6  1\n",
              "3   39       185         2    999  ...          -47.1      1.405       5099.1  0\n",
              "4   55       137         1      3  ...          -31.4      0.869       5076.2  1\n",
              "\n",
              "[5 rows x 11 columns]"
            ]
          },
          "metadata": {},
          "execution_count": 12
        }
      ]
    },
    {
      "cell_type": "code",
      "metadata": {
        "colab": {
          "base_uri": "https://localhost:8080/",
          "height": 556
        },
        "id": "k3cPFtoIOzAg",
        "outputId": "d903d61d-7c07-4b47-b2e9-30e777789cd4"
      },
      "source": [
        "plt.rcParams['figure.figsize']=(22,10)\n",
        "sns.heatmap(df.corr(),annot=True, fmt='0.1f')\n",
        "plt.show()"
      ],
      "execution_count": null,
      "outputs": [
        {
          "output_type": "display_data",
          "data": {
            "image/png": "[encoded data removed]",
            "text/plain": [
              "<Figure size 1584x720 with 2 Axes>"
            ]
          },
          "metadata": {
            "needs_background": "light"
          }
        }
      ]
    },
    {
      "cell_type": "markdown",
      "metadata": {
        "id": "xGeO4B8dPd6y"
      },
      "source": [
        "## Split the data"
      ]
    },
    {
      "cell_type": "code",
      "metadata": {
        "id": "1YnJiNL5PCQK"
      },
      "source": [
        "X = df.drop('y',axis=1)\n",
        "Y = df['y']"
      ],
      "execution_count": null,
      "outputs": []
    },
    {
      "cell_type": "code",
      "metadata": {
        "colab": {
          "base_uri": "https://localhost:8080/"
        },
        "id": "bl0jSazHPhON",
        "outputId": "541d33d1-7b13-402c-932a-34345d768f59"
      },
      "source": [
        "X.shape, Y.shape"
      ],
      "execution_count": null,
      "outputs": [
        {
          "output_type": "execute_result",
          "data": {
            "text/plain": [
              "((41188, 20), (41188,))"
            ]
          },
          "metadata": {},
          "execution_count": 15
        }
      ]
    },
    {
      "cell_type": "markdown",
      "metadata": {
        "id": "l2GKA4QxPqC_"
      },
      "source": [
        "## Train Test Split"
      ]
    },
    {
      "cell_type": "code",
      "metadata": {
        "colab": {
          "base_uri": "https://localhost:8080/"
        },
        "id": "fGobGpDRPkAE",
        "outputId": "e3d5ed37-fd5d-4ba9-c939-08fe277a3214"
      },
      "source": [
        "from sklearn.model_selection import train_test_split\n",
        "# split into train and test datasets\n",
        "X_train, X_test, Y_train, Y_test = train_test_split(X, Y, test_size=0.3,random_state=7)\n",
        "print(X_train.shape, X_test.shape, Y_train.shape, Y_test.shape)"
      ],
      "execution_count": null,
      "outputs": [
        {
          "output_type": "stream",
          "name": "stdout",
          "text": [
            "(28831, 20) (12357, 20) (28831,) (12357,)\n"
          ]
        }
      ]
    },
    {
      "cell_type": "markdown",
      "metadata": {
        "id": "6F1M3m5JQGGK"
      },
      "source": [
        "## One Hot Encoding"
      ]
    },
    {
      "cell_type": "code",
      "metadata": {
        "id": "XFuysLKhQJ0e"
      },
      "source": [
        "X_train = pd.get_dummies(X_train)"
      ],
      "execution_count": null,
      "outputs": []
    },
    {
      "cell_type": "code",
      "metadata": {
        "id": "h1FSe3XpQcXI"
      },
      "source": [
        "X_test = pd.get_dummies(X_test)"
      ],
      "execution_count": null,
      "outputs": []
    },
    {
      "cell_type": "code",
      "metadata": {
        "colab": {
          "base_uri": "https://localhost:8080/"
        },
        "id": "jwc9AUZuQfCI",
        "outputId": "9b219a2f-88ea-4ef4-fa80-b9c7913c1243"
      },
      "source": [
        "print(X_train.shape, X_test.shape, Y_train.shape, Y_test.shape)"
      ],
      "execution_count": null,
      "outputs": [
        {
          "output_type": "stream",
          "name": "stdout",
          "text": [
            "(28831, 63) (12357, 63) (28831,) (12357,)\n"
          ]
        }
      ]
    },
    {
      "cell_type": "code",
      "metadata": {
        "colab": {
          "base_uri": "https://localhost:8080/"
        },
        "id": "Hr-7dkvlg2tW",
        "outputId": "52a76ada-b689-461d-b642-931dc7bd4a20"
      },
      "source": [
        "X_train.columns"
      ],
      "execution_count": null,
      "outputs": [
        {
          "output_type": "execute_result",
          "data": {
            "text/plain": [
              "Index(['age', 'duration', 'campaign', 'pdays', 'previous', 'emp_var_rate',\n",
              "       'cons_price_idx', 'cons_conf_idx', 'euribor3m', 'nr_employed',\n",
              "       'job_admin.', 'job_blue-collar', 'job_entrepreneur', 'job_housemaid',\n",
              "       'job_management', 'job_retired', 'job_self-employed', 'job_services',\n",
              "       'job_student', 'job_technician', 'job_unemployed', 'job_unknown',\n",
              "       'marital_divorced', 'marital_married', 'marital_single',\n",
              "       'marital_unknown', 'education_basic.4y', 'education_basic.6y',\n",
              "       'education_basic.9y', 'education_high.school', 'education_illiterate',\n",
              "       'education_professional.course', 'education_university.degree',\n",
              "       'education_unknown', 'default_no', 'default_unknown', 'default_yes',\n",
              "       'housing_no', 'housing_unknown', 'housing_yes', 'loan_no',\n",
              "       'loan_unknown', 'loan_yes', 'contact_cellular', 'contact_telephone',\n",
              "       'month_apr', 'month_aug', 'month_dec', 'month_jul', 'month_jun',\n",
              "       'month_mar', 'month_may', 'month_nov', 'month_oct', 'month_sep',\n",
              "       'day_of_week_fri', 'day_of_week_mon', 'day_of_week_thu',\n",
              "       'day_of_week_tue', 'day_of_week_wed', 'poutcome_failure',\n",
              "       'poutcome_nonexistent', 'poutcome_success'],\n",
              "      dtype='object')"
            ]
          },
          "metadata": {},
          "execution_count": 20
        }
      ]
    },
    {
      "cell_type": "code",
      "metadata": {
        "colab": {
          "base_uri": "https://localhost:8080/"
        },
        "id": "rDMmUN4W3IuJ",
        "outputId": "e0806bf8-5373-4609-9a57-eeff249f2ffe"
      },
      "source": [
        "X=pd.get_dummies(X)\n",
        "X.info()"
      ],
      "execution_count": null,
      "outputs": [
        {
          "output_type": "stream",
          "name": "stdout",
          "text": [
            "<class 'pandas.core.frame.DataFrame'>\n",
            "RangeIndex: 41188 entries, 0 to 41187\n",
            "Data columns (total 63 columns):\n",
            " #   Column                         Non-Null Count  Dtype  \n",
            "---  ------                         --------------  -----  \n",
            " 0   age                            41188 non-null  int64  \n",
            " 1   duration                       41188 non-null  int64  \n",
            " 2   campaign                       41188 non-null  int64  \n",
            " 3   pdays                          41188 non-null  int64  \n",
            " 4   previous                       41188 non-null  int64  \n",
            " 5   emp_var_rate                   41188 non-null  float64\n",
            " 6   cons_price_idx                 41188 non-null  float64\n",
            " 7   cons_conf_idx                  41188 non-null  float64\n",
            " 8   euribor3m                      41188 non-null  float64\n",
            " 9   nr_employed                    41188 non-null  float64\n",
            " 10  job_admin.                     41188 non-null  uint8  \n",
            " 11  job_blue-collar                41188 non-null  uint8  \n",
            " 12  job_entrepreneur               41188 non-null  uint8  \n",
            " 13  job_housemaid                  41188 non-null  uint8  \n",
            " 14  job_management                 41188 non-null  uint8  \n",
            " 15  job_retired                    41188 non-null  uint8  \n",
            " 16  job_self-employed              41188 non-null  uint8  \n",
            " 17  job_services                   41188 non-null  uint8  \n",
            " 18  job_student                    41188 non-null  uint8  \n",
            " 19  job_technician                 41188 non-null  uint8  \n",
            " 20  job_unemployed                 41188 non-null  uint8  \n",
            " 21  job_unknown                    41188 non-null  uint8  \n",
            " 22  marital_divorced               41188 non-null  uint8  \n",
            " 23  marital_married                41188 non-null  uint8  \n",
            " 24  marital_single                 41188 non-null  uint8  \n",
            " 25  marital_unknown                41188 non-null  uint8  \n",
            " 26  education_basic.4y             41188 non-null  uint8  \n",
            " 27  education_basic.6y             41188 non-null  uint8  \n",
            " 28  education_basic.9y             41188 non-null  uint8  \n",
            " 29  education_high.school          41188 non-null  uint8  \n",
            " 30  education_illiterate           41188 non-null  uint8  \n",
            " 31  education_professional.course  41188 non-null  uint8  \n",
            " 32  education_university.degree    41188 non-null  uint8  \n",
            " 33  education_unknown              41188 non-null  uint8  \n",
            " 34  default_no                     41188 non-null  uint8  \n",
            " 35  default_unknown                41188 non-null  uint8  \n",
            " 36  default_yes                    41188 non-null  uint8  \n",
            " 37  housing_no                     41188 non-null  uint8  \n",
            " 38  housing_unknown                41188 non-null  uint8  \n",
            " 39  housing_yes                    41188 non-null  uint8  \n",
            " 40  loan_no                        41188 non-null  uint8  \n",
            " 41  loan_unknown                   41188 non-null  uint8  \n",
            " 42  loan_yes                       41188 non-null  uint8  \n",
            " 43  contact_cellular               41188 non-null  uint8  \n",
            " 44  contact_telephone              41188 non-null  uint8  \n",
            " 45  month_apr                      41188 non-null  uint8  \n",
            " 46  month_aug                      41188 non-null  uint8  \n",
            " 47  month_dec                      41188 non-null  uint8  \n",
            " 48  month_jul                      41188 non-null  uint8  \n",
            " 49  month_jun                      41188 non-null  uint8  \n",
            " 50  month_mar                      41188 non-null  uint8  \n",
            " 51  month_may                      41188 non-null  uint8  \n",
            " 52  month_nov                      41188 non-null  uint8  \n",
            " 53  month_oct                      41188 non-null  uint8  \n",
            " 54  month_sep                      41188 non-null  uint8  \n",
            " 55  day_of_week_fri                41188 non-null  uint8  \n",
            " 56  day_of_week_mon                41188 non-null  uint8  \n",
            " 57  day_of_week_thu                41188 non-null  uint8  \n",
            " 58  day_of_week_tue                41188 non-null  uint8  \n",
            " 59  day_of_week_wed                41188 non-null  uint8  \n",
            " 60  poutcome_failure               41188 non-null  uint8  \n",
            " 61  poutcome_nonexistent           41188 non-null  uint8  \n",
            " 62  poutcome_success               41188 non-null  uint8  \n",
            "dtypes: float64(5), int64(5), uint8(53)\n",
            "memory usage: 5.2 MB\n"
          ]
        }
      ]
    },
    {
      "cell_type": "code",
      "metadata": {
        "id": "e6lBmZnI3tDd",
        "colab": {
          "base_uri": "https://localhost:8080/",
          "height": 486
        },
        "outputId": "2e236f33-1eba-44cb-c4c4-527cc4d2df2d"
      },
      "source": [
        "df.y.value_counts()\n",
        "plt.figure(figsize=(20,7))\n",
        "plt.xticks(rotation=90)\n",
        "sns.countplot('y',data=df)"
      ],
      "execution_count": null,
      "outputs": [
        {
          "output_type": "stream",
          "name": "stderr",
          "text": [
            "/usr/local/lib/python3.7/dist-packages/seaborn/_decorators.py:43: FutureWarning: Pass the following variable as a keyword arg: x. From version 0.12, the only valid positional argument will be `data`, and passing other arguments without an explicit keyword will result in an error or misinterpretation.\n",
            "  FutureWarning\n"
          ]
        },
        {
          "output_type": "execute_result",
          "data": {
            "text/plain": [
              "<matplotlib.axes._subplots.AxesSubplot at 0x7f611807cdd0>"
            ]
          },
          "metadata": {},
          "execution_count": 22
        },
        {
          "output_type": "display_data",
          "data": {
            "image/png": "[encoded data removed]",
            "text/plain": [
              "<Figure size 1440x504 with 1 Axes>"
            ]
          },
          "metadata": {
            "needs_background": "light"
          }
        }
      ]
    },
    {
      "cell_type": "code",
      "metadata": {
        "colab": {
          "base_uri": "https://localhost:8080/",
          "height": 572
        },
        "id": "dSUo0wXL7IxU",
        "outputId": "e71e39b6-0eb2-4775-bcf3-f4db4018df4f"
      },
      "source": [
        "df.education.value_counts()\n",
        "plt.figure(figsize=(20,7))\n",
        "plt.xticks(rotation=90)\n",
        "sns.countplot('education',data=df)"
      ],
      "execution_count": null,
      "outputs": [
        {
          "output_type": "stream",
          "name": "stderr",
          "text": [
            "/usr/local/lib/python3.7/dist-packages/seaborn/_decorators.py:43: FutureWarning: Pass the following variable as a keyword arg: x. From version 0.12, the only valid positional argument will be `data`, and passing other arguments without an explicit keyword will result in an error or misinterpretation.\n",
            "  FutureWarning\n"
          ]
        },
        {
          "output_type": "execute_result",
          "data": {
            "text/plain": [
              "<matplotlib.axes._subplots.AxesSubplot at 0x7f60fed60110>"
            ]
          },
          "metadata": {},
          "execution_count": 23
        },
        {
          "output_type": "display_data",
          "data": {
            "image/png": "[encoded data removed]",
            "text/plain": [
              "<Figure size 1440x504 with 1 Axes>"
            ]
          },
          "metadata": {
            "needs_background": "light"
          }
        }
      ]
    },
    {
      "cell_type": "code",
      "metadata": {
        "colab": {
          "base_uri": "https://localhost:8080/"
        },
        "id": "zBhTuFv6Qhyf",
        "outputId": "a728450e-0a9b-4e88-eacb-72f8d645b126"
      },
      "source": [
        "X_train.info()"
      ],
      "execution_count": null,
      "outputs": [
        {
          "output_type": "stream",
          "name": "stdout",
          "text": [
            "<class 'pandas.core.frame.DataFrame'>\n",
            "Int64Index: 28831 entries, 28383 to 10742\n",
            "Data columns (total 63 columns):\n",
            " #   Column                         Non-Null Count  Dtype  \n",
            "---  ------                         --------------  -----  \n",
            " 0   age                            28831 non-null  int64  \n",
            " 1   duration                       28831 non-null  int64  \n",
            " 2   campaign                       28831 non-null  int64  \n",
            " 3   pdays                          28831 non-null  int64  \n",
            " 4   previous                       28831 non-null  int64  \n",
            " 5   emp_var_rate                   28831 non-null  float64\n",
            " 6   cons_price_idx                 28831 non-null  float64\n",
            " 7   cons_conf_idx                  28831 non-null  float64\n",
            " 8   euribor3m                      28831 non-null  float64\n",
            " 9   nr_employed                    28831 non-null  float64\n",
            " 10  job_admin.                     28831 non-null  uint8  \n",
            " 11  job_blue-collar                28831 non-null  uint8  \n",
            " 12  job_entrepreneur               28831 non-null  uint8  \n",
            " 13  job_housemaid                  28831 non-null  uint8  \n",
            " 14  job_management                 28831 non-null  uint8  \n",
            " 15  job_retired                    28831 non-null  uint8  \n",
            " 16  job_self-employed              28831 non-null  uint8  \n",
            " 17  job_services                   28831 non-null  uint8  \n",
            " 18  job_student                    28831 non-null  uint8  \n",
            " 19  job_technician                 28831 non-null  uint8  \n",
            " 20  job_unemployed                 28831 non-null  uint8  \n",
            " 21  job_unknown                    28831 non-null  uint8  \n",
            " 22  marital_divorced               28831 non-null  uint8  \n",
            " 23  marital_married                28831 non-null  uint8  \n",
            " 24  marital_single                 28831 non-null  uint8  \n",
            " 25  marital_unknown                28831 non-null  uint8  \n",
            " 26  education_basic.4y             28831 non-null  uint8  \n",
            " 27  education_basic.6y             28831 non-null  uint8  \n",
            " 28  education_basic.9y             28831 non-null  uint8  \n",
            " 29  education_high.school          28831 non-null  uint8  \n",
            " 30  education_illiterate           28831 non-null  uint8  \n",
            " 31  education_professional.course  28831 non-null  uint8  \n",
            " 32  education_university.degree    28831 non-null  uint8  \n",
            " 33  education_unknown              28831 non-null  uint8  \n",
            " 34  default_no                     28831 non-null  uint8  \n",
            " 35  default_unknown                28831 non-null  uint8  \n",
            " 36  default_yes                    28831 non-null  uint8  \n",
            " 37  housing_no                     28831 non-null  uint8  \n",
            " 38  housing_unknown                28831 non-null  uint8  \n",
            " 39  housing_yes                    28831 non-null  uint8  \n",
            " 40  loan_no                        28831 non-null  uint8  \n",
            " 41  loan_unknown                   28831 non-null  uint8  \n",
            " 42  loan_yes                       28831 non-null  uint8  \n",
            " 43  contact_cellular               28831 non-null  uint8  \n",
            " 44  contact_telephone              28831 non-null  uint8  \n",
            " 45  month_apr                      28831 non-null  uint8  \n",
            " 46  month_aug                      28831 non-null  uint8  \n",
            " 47  month_dec                      28831 non-null  uint8  \n",
            " 48  month_jul                      28831 non-null  uint8  \n",
            " 49  month_jun                      28831 non-null  uint8  \n",
            " 50  month_mar                      28831 non-null  uint8  \n",
            " 51  month_may                      28831 non-null  uint8  \n",
            " 52  month_nov                      28831 non-null  uint8  \n",
            " 53  month_oct                      28831 non-null  uint8  \n",
            " 54  month_sep                      28831 non-null  uint8  \n",
            " 55  day_of_week_fri                28831 non-null  uint8  \n",
            " 56  day_of_week_mon                28831 non-null  uint8  \n",
            " 57  day_of_week_thu                28831 non-null  uint8  \n",
            " 58  day_of_week_tue                28831 non-null  uint8  \n",
            " 59  day_of_week_wed                28831 non-null  uint8  \n",
            " 60  poutcome_failure               28831 non-null  uint8  \n",
            " 61  poutcome_nonexistent           28831 non-null  uint8  \n",
            " 62  poutcome_success               28831 non-null  uint8  \n",
            "dtypes: float64(5), int64(5), uint8(53)\n",
            "memory usage: 3.9 MB\n"
          ]
        }
      ]
    },
    {
      "cell_type": "markdown",
      "metadata": {
        "id": "awwxdcl-SEhY"
      },
      "source": [
        "## Check Imbalace Data"
      ]
    },
    {
      "cell_type": "code",
      "metadata": {
        "colab": {
          "base_uri": "https://localhost:8080/"
        },
        "id": "wjGbdXBjQ3y_",
        "outputId": "87ad820e-befc-4d43-f50a-ce2d4ca2e033"
      },
      "source": [
        "Y_train.value_counts()"
      ],
      "execution_count": null,
      "outputs": [
        {
          "output_type": "execute_result",
          "data": {
            "text/plain": [
              "0    25565\n",
              "1     3266\n",
              "Name: y, dtype: int64"
            ]
          },
          "metadata": {},
          "execution_count": 25
        }
      ]
    },
    {
      "cell_type": "code",
      "metadata": {
        "colab": {
          "base_uri": "https://localhost:8080/",
          "height": 534
        },
        "id": "4FKVK4EMSJ9_",
        "outputId": "f5c9bf28-a1a1-46a1-80d0-254cc7214e39"
      },
      "source": [
        "Y_train.hist()"
      ],
      "execution_count": null,
      "outputs": [
        {
          "output_type": "execute_result",
          "data": {
            "text/plain": [
              "<matplotlib.axes._subplots.AxesSubplot at 0x7f60f6c014d0>"
            ]
          },
          "metadata": {},
          "execution_count": 26
        },
        {
          "output_type": "display_data",
          "data": {
            "image/png": "[encoded data removed]",
            "text/plain": [
              "<Figure size 1584x720 with 1 Axes>"
            ]
          },
          "metadata": {
            "needs_background": "light"
          }
        }
      ]
    },
    {
      "cell_type": "markdown",
      "metadata": {
        "id": "UQjSHSaIT-gA"
      },
      "source": [
        "## Data is not Balance \n",
        "- Balanced the data using under sampling technique"
      ]
    },
    {
      "cell_type": "code",
      "metadata": {
        "id": "qvoBRyIdSNqR"
      },
      "source": [
        "df_c1 = X_train.loc[Y_train==0,:]\n",
        "df_c2 = X_train.loc[Y_train==1,:]"
      ],
      "execution_count": null,
      "outputs": []
    },
    {
      "cell_type": "code",
      "metadata": {
        "id": "eLgaPuXEUONh"
      },
      "source": [
        "df_c1 = df_c1.sample(df_c2.shape[0],random_state=7)"
      ],
      "execution_count": null,
      "outputs": []
    },
    {
      "cell_type": "code",
      "metadata": {
        "colab": {
          "base_uri": "https://localhost:8080/"
        },
        "id": "K13i7RkiUTDG",
        "outputId": "2d3aba8c-38b5-477d-d6fa-80d3543cf6f2"
      },
      "source": [
        "df_c1.shape , df_c2.shape"
      ],
      "execution_count": null,
      "outputs": [
        {
          "output_type": "execute_result",
          "data": {
            "text/plain": [
              "((3266, 63), (3266, 63))"
            ]
          },
          "metadata": {},
          "execution_count": 29
        }
      ]
    },
    {
      "cell_type": "code",
      "metadata": {
        "id": "5O4lj44eUWCD"
      },
      "source": [
        "X_train_new = pd.concat([df_c1,df_c2])"
      ],
      "execution_count": null,
      "outputs": []
    },
    {
      "cell_type": "code",
      "metadata": {
        "id": "hJj8zDZRUYyD"
      },
      "source": [
        "Y_train_new = Y_train[X_train_new.index]"
      ],
      "execution_count": null,
      "outputs": []
    },
    {
      "cell_type": "code",
      "metadata": {
        "colab": {
          "base_uri": "https://localhost:8080/"
        },
        "id": "bcXqgZ7UUbZK",
        "outputId": "5e8c5fb1-213f-45e0-b3f5-4160b828c85c"
      },
      "source": [
        "X_train_new.shape,Y_train_new.shape"
      ],
      "execution_count": null,
      "outputs": [
        {
          "output_type": "execute_result",
          "data": {
            "text/plain": [
              "((6532, 63), (6532,))"
            ]
          },
          "metadata": {},
          "execution_count": 32
        }
      ]
    },
    {
      "cell_type": "code",
      "metadata": {
        "colab": {
          "base_uri": "https://localhost:8080/"
        },
        "id": "fdX_Bea4UdxX",
        "outputId": "4987d5af-1933-4663-d3b5-0c0966a8d53a"
      },
      "source": [
        "Y_train_new.value_counts()"
      ],
      "execution_count": null,
      "outputs": [
        {
          "output_type": "execute_result",
          "data": {
            "text/plain": [
              "1    3266\n",
              "0    3266\n",
              "Name: y, dtype: int64"
            ]
          },
          "metadata": {},
          "execution_count": 33
        }
      ]
    },
    {
      "cell_type": "markdown",
      "metadata": {
        "id": "bib1xU8lU3L1"
      },
      "source": [
        "## Decision Tree Classifier"
      ]
    },
    {
      "cell_type": "code",
      "metadata": {
        "id": "PHmElWIgUqvJ"
      },
      "source": [
        "from sklearn.tree import DecisionTreeClassifier\n",
        "model = DecisionTreeClassifier(max_depth=5)"
      ],
      "execution_count": null,
      "outputs": []
    },
    {
      "cell_type": "code",
      "metadata": {
        "colab": {
          "base_uri": "https://localhost:8080/"
        },
        "id": "Ffl0t_TwcMYE",
        "outputId": "d591531e-6cd7-4233-8ba1-c880c495ca77"
      },
      "source": [
        "model.fit(X_train_new,Y_train_new)"
      ],
      "execution_count": null,
      "outputs": [
        {
          "output_type": "execute_result",
          "data": {
            "text/plain": [
              "DecisionTreeClassifier(ccp_alpha=0.0, class_weight=None, criterion='gini',\n",
              "                       max_depth=5, max_features=None, max_leaf_nodes=None,\n",
              "                       min_impurity_decrease=0.0, min_impurity_split=None,\n",
              "                       min_samples_leaf=1, min_samples_split=2,\n",
              "                       min_weight_fraction_leaf=0.0, presort='deprecated',\n",
              "                       random_state=None, splitter='best')"
            ]
          },
          "metadata": {},
          "execution_count": 23
        }
      ]
    },
    {
      "cell_type": "code",
      "metadata": {
        "id": "MbtNI_DocNYp"
      },
      "source": [
        "Y_predict=model.predict(X_test)"
      ],
      "execution_count": null,
      "outputs": []
    },
    {
      "cell_type": "code",
      "metadata": {
        "colab": {
          "base_uri": "https://localhost:8080/"
        },
        "id": "jnMw5PV4ceg5",
        "outputId": "f88d3f23-c4a7-46e7-b827-42f4d08977f8"
      },
      "source": [
        "from sklearn.metrics import confusion_matrix,accuracy_score\n",
        "# Calculate Confusion Matrix\n",
        "cf_mat=confusion_matrix(Y_test,Y_predict)\n",
        "\n",
        "# Calculate Accuracy\n",
        "acc = accuracy_score(Y_test,Y_predict)\n",
        "\n",
        "#Print Results\n",
        "print(\"Confusion Matrix \\n\",cf_mat)\n",
        "print(\"Accuracy : \",acc)"
      ],
      "execution_count": null,
      "outputs": [
        {
          "output_type": "stream",
          "name": "stdout",
          "text": [
            "Confusion Matrix \n",
            " [[9247 1736]\n",
            " [ 116 1258]]\n",
            "Accuracy :  0.8501254349761269\n"
          ]
        }
      ]
    },
    {
      "cell_type": "markdown",
      "metadata": {
        "id": "e5dsn5kmcyIH"
      },
      "source": [
        "-\n",
        "-Here Accuracy of the data is 85.01% this means Decision Tree is good fit for our data"
      ]
    },
    {
      "cell_type": "code",
      "metadata": {
        "id": "38uX1GUBcpll",
        "colab": {
          "base_uri": "https://localhost:8080/"
        },
        "outputId": "52520070-1846-4119-aec4-9ce6fbfe8a30"
      },
      "source": [
        "from sklearn.metrics import precision_recall_fscore_support\n",
        "precision_recall_fscore_support(Y_test, Y_predict)"
      ],
      "execution_count": null,
      "outputs": [
        {
          "output_type": "execute_result",
          "data": {
            "text/plain": [
              "(array([0.98761081, 0.42017368]),\n",
              " array([0.84193754, 0.91557496]),\n",
              " array([0.90897474, 0.57600733]),\n",
              " array([10983,  1374]))"
            ]
          },
          "metadata": {},
          "execution_count": 26
        }
      ]
    },
    {
      "cell_type": "code",
      "metadata": {
        "id": "-vea3c6_CzOX"
      },
      "source": [
        "from sklearn import tree"
      ],
      "execution_count": null,
      "outputs": []
    },
    {
      "cell_type": "code",
      "metadata": {
        "id": "etsxonZSCzrx"
      },
      "source": [
        "fn = list(X.columns) # feature names\n",
        "cn = ['Yes', 'No'] # category names"
      ],
      "execution_count": null,
      "outputs": []
    },
    {
      "cell_type": "code",
      "metadata": {
        "colab": {
          "base_uri": "https://localhost:8080/",
          "height": 1000
        },
        "id": "aCzZZmVHC_N3",
        "outputId": "a61e59ee-bef3-461e-edc4-75f1df3243eb"
      },
      "source": [
        "tree.plot_tree(model,feature_names = fn, \n",
        "               class_names=cn,\n",
        "               filled = True)"
      ],
      "execution_count": null,
      "outputs": [
        {
          "output_type": "execute_result",
          "data": {
            "text/plain": [
              "[Text(613.8000000000001, 498.3, 'duration <= 269.5\\ngini = 0.5\\nsamples = 6532\\nvalue = [3266, 3266]\\nclass = Yes'),\n",
              " Text(306.90000000000003, 407.70000000000005, 'nr_employed <= 5087.65\\ngini = 0.392\\nsamples = 3273\\nvalue = [2398, 875]\\nclass = Yes'),\n",
              " Text(153.45000000000002, 317.1, 'duration <= 123.5\\ngini = 0.36\\nsamples = 859\\nvalue = [202, 657]\\nclass = No'),\n",
              " Text(76.72500000000001, 226.5, 'poutcome_success <= 0.5\\ngini = 0.49\\nsamples = 172\\nvalue = [98, 74]\\nclass = Yes'),\n",
              " Text(38.362500000000004, 135.89999999999998, 'duration <= 64.0\\ngini = 0.441\\nsamples = 134\\nvalue = [90, 44]\\nclass = Yes'),\n",
              " Text(19.181250000000002, 45.299999999999955, 'gini = 0.0\\nsamples = 21\\nvalue = [21, 0]\\nclass = Yes'),\n",
              " Text(57.54375, 45.299999999999955, 'gini = 0.476\\nsamples = 113\\nvalue = [69, 44]\\nclass = Yes'),\n",
              " Text(115.0875, 135.89999999999998, 'pdays <= 3.5\\ngini = 0.332\\nsamples = 38\\nvalue = [8, 30]\\nclass = No'),\n",
              " Text(95.90625000000001, 45.299999999999955, 'gini = 0.159\\nsamples = 23\\nvalue = [2, 21]\\nclass = No'),\n",
              " Text(134.26875, 45.299999999999955, 'gini = 0.48\\nsamples = 15\\nvalue = [6, 9]\\nclass = No'),\n",
              " Text(230.175, 226.5, 'poutcome_success <= 0.5\\ngini = 0.257\\nsamples = 687\\nvalue = [104, 583]\\nclass = No'),\n",
              " Text(191.81250000000003, 135.89999999999998, 'duration <= 166.5\\ngini = 0.332\\nsamples = 437\\nvalue = [92, 345]\\nclass = No'),\n",
              " Text(172.63125000000002, 45.299999999999955, 'gini = 0.443\\nsamples = 133\\nvalue = [44, 89]\\nclass = No'),\n",
              " Text(210.99375000000003, 45.299999999999955, 'gini = 0.266\\nsamples = 304\\nvalue = [48, 256]\\nclass = No'),\n",
              " Text(268.5375, 135.89999999999998, 'campaign <= 6.5\\ngini = 0.091\\nsamples = 250\\nvalue = [12, 238]\\nclass = No'),\n",
              " Text(249.35625000000002, 45.299999999999955, 'gini = 0.084\\nsamples = 249\\nvalue = [11, 238]\\nclass = No'),\n",
              " Text(287.71875000000006, 45.299999999999955, 'gini = 0.0\\nsamples = 1\\nvalue = [1, 0]\\nclass = Yes'),\n",
              " Text(460.35, 317.1, 'cons_conf_idx <= -46.65\\ngini = 0.164\\nsamples = 2414\\nvalue = [2196, 218]\\nclass = Yes'),\n",
              " Text(383.62500000000006, 226.5, 'duration <= 93.5\\ngini = 0.498\\nsamples = 277\\nvalue = [129, 148]\\nclass = No'),\n",
              " Text(345.26250000000005, 135.89999999999998, 'age <= 38.5\\ngini = 0.176\\nsamples = 41\\nvalue = [37, 4]\\nclass = Yes'),\n",
              " Text(326.08125, 45.299999999999955, 'gini = 0.346\\nsamples = 18\\nvalue = [14, 4]\\nclass = Yes'),\n",
              " Text(364.44375, 45.299999999999955, 'gini = 0.0\\nsamples = 23\\nvalue = [23, 0]\\nclass = Yes'),\n",
              " Text(421.98750000000007, 135.89999999999998, 'job_blue-collar <= 0.5\\ngini = 0.476\\nsamples = 236\\nvalue = [92, 144]\\nclass = No'),\n",
              " Text(402.80625000000003, 45.299999999999955, 'gini = 0.43\\nsamples = 201\\nvalue = [63, 138]\\nclass = No'),\n",
              " Text(441.16875000000005, 45.299999999999955, 'gini = 0.284\\nsamples = 35\\nvalue = [29, 6]\\nclass = Yes'),\n",
              " Text(537.075, 226.5, 'month_oct <= 0.5\\ngini = 0.063\\nsamples = 2137\\nvalue = [2067, 70]\\nclass = Yes'),\n",
              " Text(498.71250000000003, 135.89999999999998, 'pdays <= 4.5\\ngini = 0.044\\nsamples = 2112\\nvalue = [2064, 48]\\nclass = Yes'),\n",
              " Text(479.53125000000006, 45.299999999999955, 'gini = 0.278\\nsamples = 6\\nvalue = [1, 5]\\nclass = No'),\n",
              " Text(517.8937500000001, 45.299999999999955, 'gini = 0.04\\nsamples = 2106\\nvalue = [2063, 43]\\nclass = Yes'),\n",
              " Text(575.4375000000001, 135.89999999999998, 'duration <= 63.0\\ngini = 0.211\\nsamples = 25\\nvalue = [3, 22]\\nclass = No'),\n",
              " Text(556.25625, 45.299999999999955, 'gini = 0.375\\nsamples = 4\\nvalue = [3, 1]\\nclass = Yes'),\n",
              " Text(594.6187500000001, 45.299999999999955, 'gini = 0.0\\nsamples = 21\\nvalue = [0, 21]\\nclass = No'),\n",
              " Text(920.7, 407.70000000000005, 'euribor3m <= 1.269\\ngini = 0.391\\nsamples = 3259\\nvalue = [868, 2391]\\nclass = No'),\n",
              " Text(767.2500000000001, 317.1, 'nr_employed <= 5087.65\\ngini = 0.125\\nsamples = 1075\\nvalue = [72, 1003]\\nclass = No'),\n",
              " Text(690.5250000000001, 226.5, 'poutcome_success <= 0.5\\ngini = 0.093\\nsamples = 918\\nvalue = [45, 873]\\nclass = No'),\n",
              " Text(652.1625, 135.89999999999998, 'duration <= 311.0\\ngini = 0.127\\nsamples = 616\\nvalue = [42, 574]\\nclass = No'),\n",
              " Text(632.98125, 45.299999999999955, 'gini = 0.021\\nsamples = 94\\nvalue = [1, 93]\\nclass = No'),\n",
              " Text(671.3437500000001, 45.299999999999955, 'gini = 0.145\\nsamples = 522\\nvalue = [41, 481]\\nclass = No'),\n",
              " Text(728.8875, 135.89999999999998, 'euribor3m <= 0.644\\ngini = 0.02\\nsamples = 302\\nvalue = [3, 299]\\nclass = No'),\n",
              " Text(709.7062500000001, 45.299999999999955, 'gini = 0.18\\nsamples = 10\\nvalue = [1, 9]\\nclass = No'),\n",
              " Text(748.0687500000001, 45.299999999999955, 'gini = 0.014\\nsamples = 292\\nvalue = [2, 290]\\nclass = No'),\n",
              " Text(843.9750000000001, 226.5, 'duration <= 335.0\\ngini = 0.285\\nsamples = 157\\nvalue = [27, 130]\\nclass = No'),\n",
              " Text(805.6125000000001, 135.89999999999998, 'campaign <= 1.5\\ngini = 0.463\\nsamples = 22\\nvalue = [8, 14]\\nclass = No'),\n",
              " Text(786.4312500000001, 45.299999999999955, 'gini = 0.18\\nsamples = 10\\nvalue = [1, 9]\\nclass = No'),\n",
              " Text(824.79375, 45.299999999999955, 'gini = 0.486\\nsamples = 12\\nvalue = [7, 5]\\nclass = Yes'),\n",
              " Text(882.3375000000001, 135.89999999999998, 'age <= 23.5\\ngini = 0.242\\nsamples = 135\\nvalue = [19, 116]\\nclass = No'),\n",
              " Text(863.1562500000001, 45.299999999999955, 'gini = 0.5\\nsamples = 6\\nvalue = [3, 3]\\nclass = Yes'),\n",
              " Text(901.5187500000001, 45.299999999999955, 'gini = 0.217\\nsamples = 129\\nvalue = [16, 113]\\nclass = No'),\n",
              " Text(1074.15, 317.1, 'duration <= 505.5\\ngini = 0.463\\nsamples = 2184\\nvalue = [796, 1388]\\nclass = No'),\n",
              " Text(997.4250000000001, 226.5, 'cons_conf_idx <= -46.65\\ngini = 0.449\\nsamples = 866\\nvalue = [571, 295]\\nclass = Yes'),\n",
              " Text(959.0625000000001, 135.89999999999998, 'day_of_week_fri <= 0.5\\ngini = 0.301\\nsamples = 168\\nvalue = [31, 137]\\nclass = No'),\n",
              " Text(939.8812500000001, 45.299999999999955, 'gini = 0.236\\nsamples = 139\\nvalue = [19, 120]\\nclass = No'),\n",
              " Text(978.2437500000001, 45.299999999999955, 'gini = 0.485\\nsamples = 29\\nvalue = [12, 17]\\nclass = No'),\n",
              " Text(1035.7875000000001, 135.89999999999998, 'duration <= 390.5\\ngini = 0.35\\nsamples = 698\\nvalue = [540, 158]\\nclass = Yes'),\n",
              " Text(1016.6062500000002, 45.299999999999955, 'gini = 0.209\\nsamples = 430\\nvalue = [379, 51]\\nclass = Yes'),\n",
              " Text(1054.9687500000002, 45.299999999999955, 'gini = 0.48\\nsamples = 268\\nvalue = [161, 107]\\nclass = Yes'),\n",
              " Text(1150.8750000000002, 226.5, 'duration <= 794.0\\ngini = 0.283\\nsamples = 1318\\nvalue = [225, 1093]\\nclass = No'),\n",
              " Text(1112.5125, 135.89999999999998, 'age <= 40.5\\ngini = 0.385\\nsamples = 661\\nvalue = [172, 489]\\nclass = No'),\n",
              " Text(1093.3312500000002, 45.299999999999955, 'gini = 0.341\\nsamples = 403\\nvalue = [88, 315]\\nclass = No'),\n",
              " Text(1131.6937500000001, 45.299999999999955, 'gini = 0.439\\nsamples = 258\\nvalue = [84, 174]\\nclass = No'),\n",
              " Text(1189.2375000000002, 135.89999999999998, 'contact_cellular <= 0.5\\ngini = 0.148\\nsamples = 657\\nvalue = [53, 604]\\nclass = No'),\n",
              " Text(1170.05625, 45.299999999999955, 'gini = 0.218\\nsamples = 233\\nvalue = [29, 204]\\nclass = No'),\n",
              " Text(1208.41875, 45.299999999999955, 'gini = 0.107\\nsamples = 424\\nvalue = [24, 400]\\nclass = No')]"
            ]
          },
          "metadata": {},
          "execution_count": 36
        },
        {
          "output_type": "display_data",
          "data": {
            "image/png": "[encoded data removed]",
            "text/plain": [
              "<Figure size 1584x720 with 1 Axes>"
            ]
          },
          "metadata": {
            "needs_background": "light"
          }
        }
      ]
    },
    {
      "cell_type": "code",
      "metadata": {
        "id": "x869DnjADACy"
      },
      "source": [
        "# from sklearn.tree.export import export_text\n",
        "from sklearn.tree import export_text\n",
        "tree_rules = export_text(model, feature_names=fn)"
      ],
      "execution_count": null,
      "outputs": []
    },
    {
      "cell_type": "code",
      "metadata": {
        "colab": {
          "base_uri": "https://localhost:8080/"
        },
        "id": "JT5yTYxRDZJ1",
        "outputId": "7de5c05f-e08c-4b0c-995c-acce81c4fc36"
      },
      "source": [
        "print(tree_rules)"
      ],
      "execution_count": null,
      "outputs": [
        {
          "output_type": "stream",
          "name": "stdout",
          "text": [
            "|--- duration <= 269.50\n",
            "|   |--- nr_employed <= 5087.65\n",
            "|   |   |--- duration <= 123.50\n",
            "|   |   |   |--- poutcome_success <= 0.50\n",
            "|   |   |   |   |--- duration <= 64.00\n",
            "|   |   |   |   |   |--- class: 0\n",
            "|   |   |   |   |--- duration >  64.00\n",
            "|   |   |   |   |   |--- class: 0\n",
            "|   |   |   |--- poutcome_success >  0.50\n",
            "|   |   |   |   |--- pdays <= 3.50\n",
            "|   |   |   |   |   |--- class: 1\n",
            "|   |   |   |   |--- pdays >  3.50\n",
            "|   |   |   |   |   |--- class: 1\n",
            "|   |   |--- duration >  123.50\n",
            "|   |   |   |--- poutcome_success <= 0.50\n",
            "|   |   |   |   |--- duration <= 166.50\n",
            "|   |   |   |   |   |--- class: 1\n",
            "|   |   |   |   |--- duration >  166.50\n",
            "|   |   |   |   |   |--- class: 1\n",
            "|   |   |   |--- poutcome_success >  0.50\n",
            "|   |   |   |   |--- campaign <= 6.50\n",
            "|   |   |   |   |   |--- class: 1\n",
            "|   |   |   |   |--- campaign >  6.50\n",
            "|   |   |   |   |   |--- class: 0\n",
            "|   |--- nr_employed >  5087.65\n",
            "|   |   |--- cons_conf_idx <= -46.65\n",
            "|   |   |   |--- duration <= 93.50\n",
            "|   |   |   |   |--- age <= 38.50\n",
            "|   |   |   |   |   |--- class: 0\n",
            "|   |   |   |   |--- age >  38.50\n",
            "|   |   |   |   |   |--- class: 0\n",
            "|   |   |   |--- duration >  93.50\n",
            "|   |   |   |   |--- job_blue-collar <= 0.50\n",
            "|   |   |   |   |   |--- class: 1\n",
            "|   |   |   |   |--- job_blue-collar >  0.50\n",
            "|   |   |   |   |   |--- class: 0\n",
            "|   |   |--- cons_conf_idx >  -46.65\n",
            "|   |   |   |--- month_oct <= 0.50\n",
            "|   |   |   |   |--- pdays <= 4.50\n",
            "|   |   |   |   |   |--- class: 1\n",
            "|   |   |   |   |--- pdays >  4.50\n",
            "|   |   |   |   |   |--- class: 0\n",
            "|   |   |   |--- month_oct >  0.50\n",
            "|   |   |   |   |--- duration <= 63.00\n",
            "|   |   |   |   |   |--- class: 0\n",
            "|   |   |   |   |--- duration >  63.00\n",
            "|   |   |   |   |   |--- class: 1\n",
            "|--- duration >  269.50\n",
            "|   |--- euribor3m <= 1.27\n",
            "|   |   |--- nr_employed <= 5087.65\n",
            "|   |   |   |--- poutcome_success <= 0.50\n",
            "|   |   |   |   |--- duration <= 311.00\n",
            "|   |   |   |   |   |--- class: 1\n",
            "|   |   |   |   |--- duration >  311.00\n",
            "|   |   |   |   |   |--- class: 1\n",
            "|   |   |   |--- poutcome_success >  0.50\n",
            "|   |   |   |   |--- euribor3m <= 0.64\n",
            "|   |   |   |   |   |--- class: 1\n",
            "|   |   |   |   |--- euribor3m >  0.64\n",
            "|   |   |   |   |   |--- class: 1\n",
            "|   |   |--- nr_employed >  5087.65\n",
            "|   |   |   |--- duration <= 335.00\n",
            "|   |   |   |   |--- campaign <= 1.50\n",
            "|   |   |   |   |   |--- class: 1\n",
            "|   |   |   |   |--- campaign >  1.50\n",
            "|   |   |   |   |   |--- class: 0\n",
            "|   |   |   |--- duration >  335.00\n",
            "|   |   |   |   |--- age <= 23.50\n",
            "|   |   |   |   |   |--- class: 0\n",
            "|   |   |   |   |--- age >  23.50\n",
            "|   |   |   |   |   |--- class: 1\n",
            "|   |--- euribor3m >  1.27\n",
            "|   |   |--- duration <= 505.50\n",
            "|   |   |   |--- cons_conf_idx <= -46.65\n",
            "|   |   |   |   |--- day_of_week_fri <= 0.50\n",
            "|   |   |   |   |   |--- class: 1\n",
            "|   |   |   |   |--- day_of_week_fri >  0.50\n",
            "|   |   |   |   |   |--- class: 1\n",
            "|   |   |   |--- cons_conf_idx >  -46.65\n",
            "|   |   |   |   |--- duration <= 390.50\n",
            "|   |   |   |   |   |--- class: 0\n",
            "|   |   |   |   |--- duration >  390.50\n",
            "|   |   |   |   |   |--- class: 0\n",
            "|   |   |--- duration >  505.50\n",
            "|   |   |   |--- duration <= 794.00\n",
            "|   |   |   |   |--- age <= 40.50\n",
            "|   |   |   |   |   |--- class: 1\n",
            "|   |   |   |   |--- age >  40.50\n",
            "|   |   |   |   |   |--- class: 1\n",
            "|   |   |   |--- duration >  794.00\n",
            "|   |   |   |   |--- contact_cellular <= 0.50\n",
            "|   |   |   |   |   |--- class: 1\n",
            "|   |   |   |   |--- contact_cellular >  0.50\n",
            "|   |   |   |   |   |--- class: 1\n",
            "\n"
          ]
        }
      ]
    },
    {
      "cell_type": "markdown",
      "metadata": {
        "id": "sOXqSZXoIROG"
      },
      "source": [
        "## Random Forest"
      ]
    },
    {
      "cell_type": "code",
      "metadata": {
        "id": "qiKMBPE9DgXX"
      },
      "source": [
        "from sklearn.ensemble import RandomForestClassifier\n",
        "rfc=RandomForestClassifier(random_state=7)"
      ],
      "execution_count": null,
      "outputs": []
    },
    {
      "cell_type": "code",
      "metadata": {
        "colab": {
          "base_uri": "https://localhost:8080/"
        },
        "id": "8mYVRWSbXohA",
        "outputId": "fd485b91-ebd0-4b15-9a39-4263604f32bd"
      },
      "source": [
        "rfc.fit(X_train_new,Y_train_new)"
      ],
      "execution_count": null,
      "outputs": [
        {
          "output_type": "execute_result",
          "data": {
            "text/plain": [
              "RandomForestClassifier(bootstrap=True, ccp_alpha=0.0, class_weight=None,\n",
              "                       criterion='gini', max_depth=None, max_features='auto',\n",
              "                       max_leaf_nodes=None, max_samples=None,\n",
              "                       min_impurity_decrease=0.0, min_impurity_split=None,\n",
              "                       min_samples_leaf=1, min_samples_split=2,\n",
              "                       min_weight_fraction_leaf=0.0, n_estimators=100,\n",
              "                       n_jobs=None, oob_score=False, random_state=7, verbose=0,\n",
              "                       warm_start=False)"
            ]
          },
          "metadata": {},
          "execution_count": 30
        }
      ]
    },
    {
      "cell_type": "code",
      "metadata": {
        "id": "kEfFbg4bXsh7"
      },
      "source": [
        "Y_predict=rfc.predict(X_test)"
      ],
      "execution_count": null,
      "outputs": []
    },
    {
      "cell_type": "code",
      "metadata": {
        "colab": {
          "base_uri": "https://localhost:8080/"
        },
        "id": "kS3GSJoKYCK1",
        "outputId": "397f1b26-39c1-4e4f-ab27-b159cbe5b0cd"
      },
      "source": [
        "from sklearn.metrics import confusion_matrix,accuracy_score\n",
        "# Calculate Confusion Matrix\n",
        "cf_mat=confusion_matrix(Y_test,Y_predict)\n",
        "\n",
        "# Calculate Accuracy\n",
        "acc = accuracy_score(Y_test,Y_predict)\n",
        "\n",
        "#Print Results\n",
        "print(\"Confusion Matrix \\n\",cf_mat)\n",
        "print(\"Accuracy : \",acc)"
      ],
      "execution_count": null,
      "outputs": [
        {
          "output_type": "stream",
          "name": "stdout",
          "text": [
            "Confusion Matrix \n",
            " [[9242 1741]\n",
            " [ 103 1271]]\n",
            "Accuracy :  0.8507728413045238\n"
          ]
        }
      ]
    },
    {
      "cell_type": "code",
      "metadata": {
        "colab": {
          "base_uri": "https://localhost:8080/"
        },
        "id": "Tr-C1v8XYabs",
        "outputId": "272430c9-3e69-466f-9a1c-f505285ee427"
      },
      "source": [
        "from sklearn.metrics import precision_recall_fscore_support\n",
        "precision_recall_fscore_support(Y_test, Y_predict)"
      ],
      "execution_count": null,
      "outputs": [
        {
          "output_type": "execute_result",
          "data": {
            "text/plain": [
              "(array([0.98897806, 0.42197875]),\n",
              " array([0.84148229, 0.92503639]),\n",
              " array([0.90928768, 0.57957136]),\n",
              " array([10983,  1374]))"
            ]
          },
          "metadata": {},
          "execution_count": 33
        }
      ]
    },
    {
      "cell_type": "markdown",
      "metadata": {
        "id": "pG1zs8OoIFFr"
      },
      "source": [
        "##Fine Tuning"
      ]
    },
    {
      "cell_type": "code",
      "metadata": {
        "id": "Ple_E4HQpyFH"
      },
      "source": [
        "param_grid = { \n",
        "    'n_estimators': [2000,5000,3000],\n",
        "    'max_depth' : [8,5,9],\n",
        "    'min_samples_split' : [5,10,15]\n",
        "    \n",
        "}"
      ],
      "execution_count": null,
      "outputs": []
    },
    {
      "cell_type": "code",
      "metadata": {
        "id": "HTdZ0AZLIYCL"
      },
      "source": [
        "rfc=RandomForestClassifier(random_state=7)"
      ],
      "execution_count": null,
      "outputs": []
    },
    {
      "cell_type": "code",
      "metadata": {
        "id": "O6AT3HzuIqR_"
      },
      "source": [
        "from sklearn.model_selection import GridSearchCV\n",
        "CV_rfc = GridSearchCV(estimator=rfc, param_grid=param_grid,\\\n",
        "                      cv= 2, verbose=2)"
      ],
      "execution_count": null,
      "outputs": []
    },
    {
      "cell_type": "code",
      "metadata": {
        "colab": {
          "base_uri": "https://localhost:8080/"
        },
        "id": "5RTnCv0XI38x",
        "outputId": "62733782-39d1-43a1-b140-2f91f56fe71c"
      },
      "source": [
        "CV_rfc.fit(X_train_new,Y_train_new)"
      ],
      "execution_count": null,
      "outputs": [
        {
          "output_type": "stream",
          "name": "stdout",
          "text": [
            "Fitting 2 folds for each of 27 candidates, totalling 54 fits\n",
            "[CV] max_depth=8, min_samples_split=5, n_estimators=2000 .............\n"
          ]
        },
        {
          "output_type": "stream",
          "name": "stderr",
          "text": [
            "[Parallel(n_jobs=1)]: Using backend SequentialBackend with 1 concurrent workers.\n"
          ]
        },
        {
          "output_type": "stream",
          "name": "stdout",
          "text": [
            "[CV]  max_depth=8, min_samples_split=5, n_estimators=2000, total=   6.9s\n",
            "[CV] max_depth=8, min_samples_split=5, n_estimators=2000 .............\n"
          ]
        },
        {
          "output_type": "stream",
          "name": "stderr",
          "text": [
            "[Parallel(n_jobs=1)]: Done   1 out of   1 | elapsed:    6.9s remaining:    0.0s\n"
          ]
        },
        {
          "output_type": "stream",
          "name": "stdout",
          "text": [
            "[CV]  max_depth=8, min_samples_split=5, n_estimators=2000, total=   6.9s\n",
            "[CV] max_depth=8, min_samples_split=5, n_estimators=5000 .............\n",
            "[CV]  max_depth=8, min_samples_split=5, n_estimators=5000, total=  17.2s\n",
            "[CV] max_depth=8, min_samples_split=5, n_estimators=5000 .............\n",
            "[CV]  max_depth=8, min_samples_split=5, n_estimators=5000, total=  17.1s\n",
            "[CV] max_depth=8, min_samples_split=5, n_estimators=3000 .............\n",
            "[CV]  max_depth=8, min_samples_split=5, n_estimators=3000, total=  10.2s\n",
            "[CV] max_depth=8, min_samples_split=5, n_estimators=3000 .............\n",
            "[CV]  max_depth=8, min_samples_split=5, n_estimators=3000, total=  10.2s\n",
            "[CV] max_depth=8, min_samples_split=10, n_estimators=2000 ............\n",
            "[CV]  max_depth=8, min_samples_split=10, n_estimators=2000, total=   6.8s\n",
            "[CV] max_depth=8, min_samples_split=10, n_estimators=2000 ............\n",
            "[CV]  max_depth=8, min_samples_split=10, n_estimators=2000, total=   6.8s\n",
            "[CV] max_depth=8, min_samples_split=10, n_estimators=5000 ............\n",
            "[CV]  max_depth=8, min_samples_split=10, n_estimators=5000, total=  16.9s\n",
            "[CV] max_depth=8, min_samples_split=10, n_estimators=5000 ............\n",
            "[CV]  max_depth=8, min_samples_split=10, n_estimators=5000, total=  17.0s\n",
            "[CV] max_depth=8, min_samples_split=10, n_estimators=3000 ............\n",
            "[CV]  max_depth=8, min_samples_split=10, n_estimators=3000, total=  10.1s\n",
            "[CV] max_depth=8, min_samples_split=10, n_estimators=3000 ............\n",
            "[CV]  max_depth=8, min_samples_split=10, n_estimators=3000, total=  10.1s\n",
            "[CV] max_depth=8, min_samples_split=15, n_estimators=2000 ............\n",
            "[CV]  max_depth=8, min_samples_split=15, n_estimators=2000, total=   6.7s\n",
            "[CV] max_depth=8, min_samples_split=15, n_estimators=2000 ............\n",
            "[CV]  max_depth=8, min_samples_split=15, n_estimators=2000, total=   6.7s\n",
            "[CV] max_depth=8, min_samples_split=15, n_estimators=5000 ............\n",
            "[CV]  max_depth=8, min_samples_split=15, n_estimators=5000, total=  16.7s\n",
            "[CV] max_depth=8, min_samples_split=15, n_estimators=5000 ............\n",
            "[CV]  max_depth=8, min_samples_split=15, n_estimators=5000, total=  16.8s\n",
            "[CV] max_depth=8, min_samples_split=15, n_estimators=3000 ............\n",
            "[CV]  max_depth=8, min_samples_split=15, n_estimators=3000, total=  10.1s\n",
            "[CV] max_depth=8, min_samples_split=15, n_estimators=3000 ............\n",
            "[CV]  max_depth=8, min_samples_split=15, n_estimators=3000, total=  10.1s\n",
            "[CV] max_depth=5, min_samples_split=5, n_estimators=2000 .............\n",
            "[CV]  max_depth=5, min_samples_split=5, n_estimators=2000, total=   5.6s\n",
            "[CV] max_depth=5, min_samples_split=5, n_estimators=2000 .............\n",
            "[CV]  max_depth=5, min_samples_split=5, n_estimators=2000, total=   5.5s\n",
            "[CV] max_depth=5, min_samples_split=5, n_estimators=5000 .............\n",
            "[CV]  max_depth=5, min_samples_split=5, n_estimators=5000, total=  14.0s\n",
            "[CV] max_depth=5, min_samples_split=5, n_estimators=5000 .............\n",
            "[CV]  max_depth=5, min_samples_split=5, n_estimators=5000, total=  14.0s\n",
            "[CV] max_depth=5, min_samples_split=5, n_estimators=3000 .............\n",
            "[CV]  max_depth=5, min_samples_split=5, n_estimators=3000, total=   8.4s\n",
            "[CV] max_depth=5, min_samples_split=5, n_estimators=3000 .............\n",
            "[CV]  max_depth=5, min_samples_split=5, n_estimators=3000, total=   8.4s\n",
            "[CV] max_depth=5, min_samples_split=10, n_estimators=2000 ............\n",
            "[CV]  max_depth=5, min_samples_split=10, n_estimators=2000, total=   5.6s\n",
            "[CV] max_depth=5, min_samples_split=10, n_estimators=2000 ............\n",
            "[CV]  max_depth=5, min_samples_split=10, n_estimators=2000, total=   5.6s\n",
            "[CV] max_depth=5, min_samples_split=10, n_estimators=5000 ............\n",
            "[CV]  max_depth=5, min_samples_split=10, n_estimators=5000, total=  13.9s\n",
            "[CV] max_depth=5, min_samples_split=10, n_estimators=5000 ............\n",
            "[CV]  max_depth=5, min_samples_split=10, n_estimators=5000, total=  14.1s\n",
            "[CV] max_depth=5, min_samples_split=10, n_estimators=3000 ............\n",
            "[CV]  max_depth=5, min_samples_split=10, n_estimators=3000, total=   8.4s\n",
            "[CV] max_depth=5, min_samples_split=10, n_estimators=3000 ............\n",
            "[CV]  max_depth=5, min_samples_split=10, n_estimators=3000, total=   8.4s\n",
            "[CV] max_depth=5, min_samples_split=15, n_estimators=2000 ............\n",
            "[CV]  max_depth=5, min_samples_split=15, n_estimators=2000, total=   5.6s\n",
            "[CV] max_depth=5, min_samples_split=15, n_estimators=2000 ............\n",
            "[CV]  max_depth=5, min_samples_split=15, n_estimators=2000, total=   5.7s\n",
            "[CV] max_depth=5, min_samples_split=15, n_estimators=5000 ............\n",
            "[CV]  max_depth=5, min_samples_split=15, n_estimators=5000, total=  13.9s\n",
            "[CV] max_depth=5, min_samples_split=15, n_estimators=5000 ............\n",
            "[CV]  max_depth=5, min_samples_split=15, n_estimators=5000, total=  13.8s\n",
            "[CV] max_depth=5, min_samples_split=15, n_estimators=3000 ............\n",
            "[CV]  max_depth=5, min_samples_split=15, n_estimators=3000, total=   8.4s\n",
            "[CV] max_depth=5, min_samples_split=15, n_estimators=3000 ............\n",
            "[CV]  max_depth=5, min_samples_split=15, n_estimators=3000, total=   8.3s\n",
            "[CV] max_depth=9, min_samples_split=5, n_estimators=2000 .............\n",
            "[CV]  max_depth=9, min_samples_split=5, n_estimators=2000, total=   7.3s\n",
            "[CV] max_depth=9, min_samples_split=5, n_estimators=2000 .............\n",
            "[CV]  max_depth=9, min_samples_split=5, n_estimators=2000, total=   7.2s\n",
            "[CV] max_depth=9, min_samples_split=5, n_estimators=5000 .............\n",
            "[CV]  max_depth=9, min_samples_split=5, n_estimators=5000, total=  18.2s\n",
            "[CV] max_depth=9, min_samples_split=5, n_estimators=5000 .............\n",
            "[CV]  max_depth=9, min_samples_split=5, n_estimators=5000, total=  18.0s\n",
            "[CV] max_depth=9, min_samples_split=5, n_estimators=3000 .............\n",
            "[CV]  max_depth=9, min_samples_split=5, n_estimators=3000, total=  10.7s\n",
            "[CV] max_depth=9, min_samples_split=5, n_estimators=3000 .............\n",
            "[CV]  max_depth=9, min_samples_split=5, n_estimators=3000, total=  10.9s\n",
            "[CV] max_depth=9, min_samples_split=10, n_estimators=2000 ............\n",
            "[CV]  max_depth=9, min_samples_split=10, n_estimators=2000, total=   7.2s\n",
            "[CV] max_depth=9, min_samples_split=10, n_estimators=2000 ............\n",
            "[CV]  max_depth=9, min_samples_split=10, n_estimators=2000, total=   7.1s\n",
            "[CV] max_depth=9, min_samples_split=10, n_estimators=5000 ............\n",
            "[CV]  max_depth=9, min_samples_split=10, n_estimators=5000, total=  17.8s\n",
            "[CV] max_depth=9, min_samples_split=10, n_estimators=5000 ............\n",
            "[CV]  max_depth=9, min_samples_split=10, n_estimators=5000, total=  17.8s\n",
            "[CV] max_depth=9, min_samples_split=10, n_estimators=3000 ............\n",
            "[CV]  max_depth=9, min_samples_split=10, n_estimators=3000, total=  10.7s\n",
            "[CV] max_depth=9, min_samples_split=10, n_estimators=3000 ............\n",
            "[CV]  max_depth=9, min_samples_split=10, n_estimators=3000, total=  10.7s\n",
            "[CV] max_depth=9, min_samples_split=15, n_estimators=2000 ............\n",
            "[CV]  max_depth=9, min_samples_split=15, n_estimators=2000, total=   7.0s\n",
            "[CV] max_depth=9, min_samples_split=15, n_estimators=2000 ............\n",
            "[CV]  max_depth=9, min_samples_split=15, n_estimators=2000, total=   7.1s\n",
            "[CV] max_depth=9, min_samples_split=15, n_estimators=5000 ............\n",
            "[CV]  max_depth=9, min_samples_split=15, n_estimators=5000, total=  17.4s\n",
            "[CV] max_depth=9, min_samples_split=15, n_estimators=5000 ............\n",
            "[CV]  max_depth=9, min_samples_split=15, n_estimators=5000, total=  17.5s\n",
            "[CV] max_depth=9, min_samples_split=15, n_estimators=3000 ............\n",
            "[CV]  max_depth=9, min_samples_split=15, n_estimators=3000, total=  10.6s\n",
            "[CV] max_depth=9, min_samples_split=15, n_estimators=3000 ............\n",
            "[CV]  max_depth=9, min_samples_split=15, n_estimators=3000, total=  10.6s\n"
          ]
        },
        {
          "output_type": "stream",
          "name": "stderr",
          "text": [
            "[Parallel(n_jobs=1)]: Done  54 out of  54 | elapsed:  9.8min finished\n"
          ]
        },
        {
          "output_type": "execute_result",
          "data": {
            "text/plain": [
              "GridSearchCV(cv=2, error_score=nan,\n",
              "             estimator=RandomForestClassifier(bootstrap=True, ccp_alpha=0.0,\n",
              "                                              class_weight=None,\n",
              "                                              criterion='gini', max_depth=None,\n",
              "                                              max_features='auto',\n",
              "                                              max_leaf_nodes=None,\n",
              "                                              max_samples=None,\n",
              "                                              min_impurity_decrease=0.0,\n",
              "                                              min_impurity_split=None,\n",
              "                                              min_samples_leaf=1,\n",
              "                                              min_samples_split=2,\n",
              "                                              min_weight_fraction_leaf=0.0,\n",
              "                                              n_estimators=100, n_jobs=None,\n",
              "                                              oob_score=False, random_state=7,\n",
              "                                              verbose=0, warm_start=False),\n",
              "             iid='deprecated', n_jobs=None,\n",
              "             param_grid={'max_depth': [8, 5, 9],\n",
              "                         'min_samples_split': [5, 10, 15],\n",
              "                         'n_estimators': [2000, 5000, 3000]},\n",
              "             pre_dispatch='2*n_jobs', refit=True, return_train_score=False,\n",
              "             scoring=None, verbose=2)"
            ]
          },
          "metadata": {},
          "execution_count": 37
        }
      ]
    },
    {
      "cell_type": "code",
      "metadata": {
        "id": "gbytza_xKrDw"
      },
      "source": [
        "Y_predict=CV_rfc.predict(X_test)"
      ],
      "execution_count": null,
      "outputs": []
    },
    {
      "cell_type": "code",
      "metadata": {
        "colab": {
          "base_uri": "https://localhost:8080/"
        },
        "id": "F-Oq09zjMKfI",
        "outputId": "aeebbb0e-024e-406d-87f5-7a985da24ff0"
      },
      "source": [
        "print(CV_rfc.best_params_)\n",
        "print(CV_rfc.cv_results_['mean_test_score'])\n",
        "print(sum(CV_rfc.cv_results_['mean_test_score'])/ len(CV_rfc.cv_results_['mean_test_score']))"
      ],
      "execution_count": null,
      "outputs": [
        {
          "output_type": "stream",
          "name": "stdout",
          "text": [
            "{'max_depth': 9, 'min_samples_split': 5, 'n_estimators': 5000}\n",
            "[0.87630129 0.8759951  0.87645438 0.87538273 0.8759951  0.87522964\n",
            " 0.87706675 0.87676056 0.87706675 0.8413962  0.84200857 0.84200857\n",
            " 0.83925291 0.8415493  0.84017146 0.84047765 0.84292713 0.84063074\n",
            " 0.87676056 0.87829149 0.87706675 0.87767912 0.8781384  0.87752603\n",
            " 0.87752603 0.87829149 0.87767912]\n",
            "0.8650234741784035\n"
          ]
        }
      ]
    },
    {
      "cell_type": "markdown",
      "metadata": {
        "id": "ooQeORlGbq2K"
      },
      "source": [
        "##Model fitting using Best params"
      ]
    },
    {
      "cell_type": "code",
      "metadata": {
        "id": "U2xfHS4obx2K"
      },
      "source": [
        "new_rfc=RandomForestClassifier(max_depth= 9, min_samples_split= 5, n_estimators=5000,random_state=7)"
      ],
      "execution_count": null,
      "outputs": []
    },
    {
      "cell_type": "code",
      "metadata": {
        "colab": {
          "base_uri": "https://localhost:8080/"
        },
        "id": "zM8n_yp8cnIO",
        "outputId": "ae9edabf-905f-48aa-f7c2-da1195c4faec"
      },
      "source": [
        "new_rfc.fit(X_train_new,Y_train_new)"
      ],
      "execution_count": null,
      "outputs": [
        {
          "output_type": "execute_result",
          "data": {
            "text/plain": [
              "RandomForestClassifier(bootstrap=True, ccp_alpha=0.0, class_weight=None,\n",
              "                       criterion='gini', max_depth=9, max_features='auto',\n",
              "                       max_leaf_nodes=None, max_samples=None,\n",
              "                       min_impurity_decrease=0.0, min_impurity_split=None,\n",
              "                       min_samples_leaf=1, min_samples_split=5,\n",
              "                       min_weight_fraction_leaf=0.0, n_estimators=5000,\n",
              "                       n_jobs=None, oob_score=False, random_state=7, verbose=0,\n",
              "                       warm_start=False)"
            ]
          },
          "metadata": {},
          "execution_count": 41
        }
      ]
    },
    {
      "cell_type": "code",
      "metadata": {
        "colab": {
          "base_uri": "https://localhost:8080/"
        },
        "id": "3F_cFJuMdBfG",
        "outputId": "6c540351-b0b9-4db1-bd10-8fbd4f0afe1f"
      },
      "source": [
        "from sklearn.metrics import confusion_matrix,accuracy_score\n",
        "# Calculate Confusion Matrix\n",
        "cf_mat=confusion_matrix(Y_test,Y_predict)\n",
        "\n",
        "# Calculate Accuracy\n",
        "acc = accuracy_score(Y_test,Y_predict)\n",
        "\n",
        "#Print Results\n",
        "print(\"Confusion Matrix \\n\",cf_mat)\n",
        "print(\"Accuracy : \",acc)"
      ],
      "execution_count": null,
      "outputs": [
        {
          "output_type": "stream",
          "name": "stdout",
          "text": [
            "Confusion Matrix \n",
            " [[8999 1984]\n",
            " [  81 1293]]\n",
            "Accuracy :  0.8328882414825605\n"
          ]
        }
      ]
    },
    {
      "cell_type": "code",
      "metadata": {
        "colab": {
          "base_uri": "https://localhost:8080/"
        },
        "id": "mZoMR32bfxUG",
        "outputId": "7e70ea2b-43ee-4be0-ea06-b0f2ad03cd47"
      },
      "source": [
        "from sklearn.metrics import precision_recall_fscore_support\n",
        "precision_recall_fscore_support(Y_test, Y_predict)"
      ],
      "execution_count": null,
      "outputs": [
        {
          "output_type": "execute_result",
          "data": {
            "text/plain": [
              "(array([0.9910793, 0.3945682]),\n",
              " array([0.81935719, 0.94104803]),\n",
              " array([0.89707422, 0.55600946]),\n",
              " array([10983,  1374]))"
            ]
          },
          "metadata": {},
          "execution_count": 43
        }
      ]
    },
    {
      "cell_type": "markdown",
      "metadata": {
        "id": "SWgdLAKW0D21"
      },
      "source": [
        "##Logistic Regression"
      ]
    },
    {
      "cell_type": "code",
      "metadata": {
        "id": "IqxRlQSG8fxU"
      },
      "source": [
        "from sklearn.linear_model import LogisticRegression\n",
        "clf = LogisticRegression(random_state=7)"
      ],
      "execution_count": null,
      "outputs": []
    },
    {
      "cell_type": "code",
      "metadata": {
        "colab": {
          "base_uri": "https://localhost:8080/"
        },
        "id": "VNdJSAFX00Wh",
        "outputId": "933ea33c-203e-4172-c8e3-e1a8ef23dccf"
      },
      "source": [
        "clf.fit(X_train_new,Y_train_new)"
      ],
      "execution_count": null,
      "outputs": [
        {
          "output_type": "stream",
          "name": "stderr",
          "text": [
            "/usr/local/lib/python3.7/dist-packages/sklearn/linear_model/_logistic.py:940: ConvergenceWarning: lbfgs failed to converge (status=1):\n",
            "STOP: TOTAL NO. of ITERATIONS REACHED LIMIT.\n",
            "\n",
            "Increase the number of iterations (max_iter) or scale the data as shown in:\n",
            "    https://scikit-learn.org/stable/modules/preprocessing.html\n",
            "Please also refer to the documentation for alternative solver options:\n",
            "    https://scikit-learn.org/stable/modules/linear_model.html#logistic-regression\n",
            "  extra_warning_msg=_LOGISTIC_SOLVER_CONVERGENCE_MSG)\n"
          ]
        },
        {
          "output_type": "execute_result",
          "data": {
            "text/plain": [
              "LogisticRegression(C=1.0, class_weight=None, dual=False, fit_intercept=True,\n",
              "                   intercept_scaling=1, l1_ratio=None, max_iter=100,\n",
              "                   multi_class='auto', n_jobs=None, penalty='l2',\n",
              "                   random_state=7, solver='lbfgs', tol=0.0001, verbose=0,\n",
              "                   warm_start=False)"
            ]
          },
          "metadata": {},
          "execution_count": 45
        }
      ]
    },
    {
      "cell_type": "code",
      "metadata": {
        "id": "eyo6D5aN0-JO"
      },
      "source": [
        "Y_predict=clf.predict(X_test)"
      ],
      "execution_count": null,
      "outputs": []
    },
    {
      "cell_type": "code",
      "metadata": {
        "colab": {
          "base_uri": "https://localhost:8080/"
        },
        "id": "3yVnpoFW1Ah1",
        "outputId": "9a400c6c-3ba0-4cbe-84d5-62f284bd0060"
      },
      "source": [
        "from sklearn.metrics import confusion_matrix,accuracy_score\n",
        "# Calculate Confusion Matrix\n",
        "cf_mat=confusion_matrix(Y_test,Y_predict)\n",
        "\n",
        "# Calculate Accuracy\n",
        "acc = accuracy_score(Y_test,Y_predict)\n",
        "\n",
        "#Print Results\n",
        "print(\"Confusion Matrix \\n\",cf_mat)\n",
        "print(\"Accuracy : \",acc)"
      ],
      "execution_count": null,
      "outputs": [
        {
          "output_type": "stream",
          "name": "stdout",
          "text": [
            "Confusion Matrix \n",
            " [[9396 1587]\n",
            " [ 186 1188]]\n",
            "Accuracy :  0.8565185724690458\n"
          ]
        }
      ]
    },
    {
      "cell_type": "code",
      "metadata": {
        "colab": {
          "base_uri": "https://localhost:8080/"
        },
        "id": "rLPcNl9c1FuD",
        "outputId": "b5184b98-c8f7-41cf-f24b-cc0c87046316"
      },
      "source": [
        "from sklearn.metrics import precision_recall_fscore_support\n",
        "precision_recall_fscore_support(Y_test, Y_predict)"
      ],
      "execution_count": null,
      "outputs": [
        {
          "output_type": "execute_result",
          "data": {
            "text/plain": [
              "(array([0.9805886 , 0.42810811]),\n",
              " array([0.85550396, 0.86462882]),\n",
              " array([0.91378556, 0.57266811]),\n",
              " array([10983,  1374]))"
            ]
          },
          "metadata": {},
          "execution_count": 48
        }
      ]
    },
    {
      "cell_type": "code",
      "metadata": {
        "colab": {
          "base_uri": "https://localhost:8080/",
          "height": 552
        },
        "id": "ku7Hq5PMghrR",
        "outputId": "d9e1dbeb-db7a-453b-fa15-4aac3ef4ce5d"
      },
      "source": [
        "from sklearn.metrics import plot_precision_recall_curve\n",
        "plot_precision_recall_curve(clf, X_test, Y_test)"
      ],
      "execution_count": null,
      "outputs": [
        {
          "output_type": "execute_result",
          "data": {
            "text/plain": [
              "<sklearn.metrics._plot.precision_recall_curve.PrecisionRecallDisplay at 0x7f647c555ed0>"
            ]
          },
          "metadata": {},
          "execution_count": 63
        },
        {
          "output_type": "display_data",
          "data": {
            "image/png": "[encoded data removed]",
            "text/plain": [
              "<Figure size 1584x720 with 1 Axes>"
            ]
          },
          "metadata": {
            "needs_background": "light"
          }
        }
      ]
    },
    {
      "cell_type": "markdown",
      "metadata": {
        "id": "YH7bOd5JzQ_e"
      },
      "source": [
        "## Fine Tunning"
      ]
    },
    {
      "cell_type": "code",
      "metadata": {
        "id": "q6DgzDRFzMMn"
      },
      "source": [
        "param_grid = { \n",
        "    'max_iter':[200,300,400]\n",
        "    \n",
        "}"
      ],
      "execution_count": null,
      "outputs": []
    },
    {
      "cell_type": "code",
      "metadata": {
        "id": "Ih1nRd04gqVJ"
      },
      "source": [
        "clf = LogisticRegression(random_state=7)"
      ],
      "execution_count": null,
      "outputs": []
    },
    {
      "cell_type": "code",
      "metadata": {
        "id": "Q83yDED91_iM"
      },
      "source": [
        "from sklearn.model_selection import GridSearchCV\n",
        "CV_clf = GridSearchCV(estimator=clf, param_grid=param_grid,\\\n",
        "                      cv= 2, verbose=2)"
      ],
      "execution_count": null,
      "outputs": []
    },
    {
      "cell_type": "code",
      "metadata": {
        "colab": {
          "base_uri": "https://localhost:8080/"
        },
        "id": "VW_X66T47vfS",
        "outputId": "57bb7e50-afbe-4410-f9a9-8c093aee5ee4"
      },
      "source": [
        "CV_clf.fit(X_train_new,Y_train_new)"
      ],
      "execution_count": null,
      "outputs": [
        {
          "output_type": "stream",
          "name": "stdout",
          "text": [
            "Fitting 2 folds for each of 3 candidates, totalling 6 fits\n",
            "[CV] max_iter=200 ....................................................\n"
          ]
        },
        {
          "output_type": "stream",
          "name": "stderr",
          "text": [
            "[Parallel(n_jobs=1)]: Using backend SequentialBackend with 1 concurrent workers.\n",
            "/usr/local/lib/python3.7/dist-packages/sklearn/linear_model/_logistic.py:940: ConvergenceWarning: lbfgs failed to converge (status=1):\n",
            "STOP: TOTAL NO. of ITERATIONS REACHED LIMIT.\n",
            "\n",
            "Increase the number of iterations (max_iter) or scale the data as shown in:\n",
            "    https://scikit-learn.org/stable/modules/preprocessing.html\n",
            "Please also refer to the documentation for alternative solver options:\n",
            "    https://scikit-learn.org/stable/modules/linear_model.html#logistic-regression\n",
            "  extra_warning_msg=_LOGISTIC_SOLVER_CONVERGENCE_MSG)\n",
            "[Parallel(n_jobs=1)]: Done   1 out of   1 | elapsed:    0.2s remaining:    0.0s\n"
          ]
        },
        {
          "output_type": "stream",
          "name": "stdout",
          "text": [
            "[CV] ..................................... max_iter=200, total=   0.2s\n",
            "[CV] max_iter=200 ....................................................\n"
          ]
        },
        {
          "output_type": "stream",
          "name": "stderr",
          "text": [
            "/usr/local/lib/python3.7/dist-packages/sklearn/linear_model/_logistic.py:940: ConvergenceWarning: lbfgs failed to converge (status=1):\n",
            "STOP: TOTAL NO. of ITERATIONS REACHED LIMIT.\n",
            "\n",
            "Increase the number of iterations (max_iter) or scale the data as shown in:\n",
            "    https://scikit-learn.org/stable/modules/preprocessing.html\n",
            "Please also refer to the documentation for alternative solver options:\n",
            "    https://scikit-learn.org/stable/modules/linear_model.html#logistic-regression\n",
            "  extra_warning_msg=_LOGISTIC_SOLVER_CONVERGENCE_MSG)\n"
          ]
        },
        {
          "output_type": "stream",
          "name": "stdout",
          "text": [
            "[CV] ..................................... max_iter=200, total=   0.2s\n",
            "[CV] max_iter=300 ....................................................\n"
          ]
        },
        {
          "output_type": "stream",
          "name": "stderr",
          "text": [
            "/usr/local/lib/python3.7/dist-packages/sklearn/linear_model/_logistic.py:940: ConvergenceWarning: lbfgs failed to converge (status=1):\n",
            "STOP: TOTAL NO. of ITERATIONS REACHED LIMIT.\n",
            "\n",
            "Increase the number of iterations (max_iter) or scale the data as shown in:\n",
            "    https://scikit-learn.org/stable/modules/preprocessing.html\n",
            "Please also refer to the documentation for alternative solver options:\n",
            "    https://scikit-learn.org/stable/modules/linear_model.html#logistic-regression\n",
            "  extra_warning_msg=_LOGISTIC_SOLVER_CONVERGENCE_MSG)\n"
          ]
        },
        {
          "output_type": "stream",
          "name": "stdout",
          "text": [
            "[CV] ..................................... max_iter=300, total=   0.4s\n",
            "[CV] max_iter=300 ....................................................\n"
          ]
        },
        {
          "output_type": "stream",
          "name": "stderr",
          "text": [
            "/usr/local/lib/python3.7/dist-packages/sklearn/linear_model/_logistic.py:940: ConvergenceWarning: lbfgs failed to converge (status=1):\n",
            "STOP: TOTAL NO. of ITERATIONS REACHED LIMIT.\n",
            "\n",
            "Increase the number of iterations (max_iter) or scale the data as shown in:\n",
            "    https://scikit-learn.org/stable/modules/preprocessing.html\n",
            "Please also refer to the documentation for alternative solver options:\n",
            "    https://scikit-learn.org/stable/modules/linear_model.html#logistic-regression\n",
            "  extra_warning_msg=_LOGISTIC_SOLVER_CONVERGENCE_MSG)\n"
          ]
        },
        {
          "output_type": "stream",
          "name": "stdout",
          "text": [
            "[CV] ..................................... max_iter=300, total=   0.3s\n",
            "[CV] max_iter=400 ....................................................\n"
          ]
        },
        {
          "output_type": "stream",
          "name": "stderr",
          "text": [
            "/usr/local/lib/python3.7/dist-packages/sklearn/linear_model/_logistic.py:940: ConvergenceWarning: lbfgs failed to converge (status=1):\n",
            "STOP: TOTAL NO. of ITERATIONS REACHED LIMIT.\n",
            "\n",
            "Increase the number of iterations (max_iter) or scale the data as shown in:\n",
            "    https://scikit-learn.org/stable/modules/preprocessing.html\n",
            "Please also refer to the documentation for alternative solver options:\n",
            "    https://scikit-learn.org/stable/modules/linear_model.html#logistic-regression\n",
            "  extra_warning_msg=_LOGISTIC_SOLVER_CONVERGENCE_MSG)\n"
          ]
        },
        {
          "output_type": "stream",
          "name": "stdout",
          "text": [
            "[CV] ..................................... max_iter=400, total=   0.5s\n",
            "[CV] max_iter=400 ....................................................\n"
          ]
        },
        {
          "output_type": "stream",
          "name": "stderr",
          "text": [
            "/usr/local/lib/python3.7/dist-packages/sklearn/linear_model/_logistic.py:940: ConvergenceWarning: lbfgs failed to converge (status=1):\n",
            "STOP: TOTAL NO. of ITERATIONS REACHED LIMIT.\n",
            "\n",
            "Increase the number of iterations (max_iter) or scale the data as shown in:\n",
            "    https://scikit-learn.org/stable/modules/preprocessing.html\n",
            "Please also refer to the documentation for alternative solver options:\n",
            "    https://scikit-learn.org/stable/modules/linear_model.html#logistic-regression\n",
            "  extra_warning_msg=_LOGISTIC_SOLVER_CONVERGENCE_MSG)\n",
            "[Parallel(n_jobs=1)]: Done   6 out of   6 | elapsed:    2.2s finished\n"
          ]
        },
        {
          "output_type": "stream",
          "name": "stdout",
          "text": [
            "[CV] ..................................... max_iter=400, total=   0.5s\n"
          ]
        },
        {
          "output_type": "stream",
          "name": "stderr",
          "text": [
            "/usr/local/lib/python3.7/dist-packages/sklearn/linear_model/_logistic.py:940: ConvergenceWarning: lbfgs failed to converge (status=1):\n",
            "STOP: TOTAL NO. of ITERATIONS REACHED LIMIT.\n",
            "\n",
            "Increase the number of iterations (max_iter) or scale the data as shown in:\n",
            "    https://scikit-learn.org/stable/modules/preprocessing.html\n",
            "Please also refer to the documentation for alternative solver options:\n",
            "    https://scikit-learn.org/stable/modules/linear_model.html#logistic-regression\n",
            "  extra_warning_msg=_LOGISTIC_SOLVER_CONVERGENCE_MSG)\n"
          ]
        },
        {
          "output_type": "execute_result",
          "data": {
            "text/plain": [
              "GridSearchCV(cv=2, error_score=nan,\n",
              "             estimator=LogisticRegression(C=1.0, class_weight=None, dual=False,\n",
              "                                          fit_intercept=True,\n",
              "                                          intercept_scaling=1, l1_ratio=None,\n",
              "                                          max_iter=100, multi_class='auto',\n",
              "                                          n_jobs=None, penalty='l2',\n",
              "                                          random_state=7, solver='lbfgs',\n",
              "                                          tol=0.0001, verbose=0,\n",
              "                                          warm_start=False),\n",
              "             iid='deprecated', n_jobs=None,\n",
              "             param_grid={'max_iter': [200, 300, 400]}, pre_dispatch='2*n_jobs',\n",
              "             refit=True, return_train_score=False, scoring=None, verbose=2)"
            ]
          },
          "metadata": {},
          "execution_count": 52
        }
      ]
    },
    {
      "cell_type": "code",
      "metadata": {
        "id": "q8QPJ-589wI6"
      },
      "source": [
        "Y_predict=CV_clf.predict(X_test)"
      ],
      "execution_count": null,
      "outputs": []
    },
    {
      "cell_type": "code",
      "metadata": {
        "id": "gy0OMwkd3CqE",
        "colab": {
          "base_uri": "https://localhost:8080/"
        },
        "outputId": "0f52e3ee-b197-4a40-d906-fd6c9ec83a8c"
      },
      "source": [
        "print(CV_clf.best_params_)\n",
        "print(CV_clf.cv_results_['mean_test_score'])\n",
        "print(sum(CV_clf.cv_results_['mean_test_score'])/ len(CV_clf.cv_results_['mean_test_score']))"
      ],
      "execution_count": null,
      "outputs": [
        {
          "output_type": "stream",
          "name": "stdout",
          "text": [
            "{'max_iter': 300}\n",
            "[0.86772811 0.86803429 0.86711574]\n",
            "0.8676260461318636\n"
          ]
        }
      ]
    },
    {
      "cell_type": "markdown",
      "metadata": {
        "id": "K8c7z1ywktWU"
      },
      "source": [
        "##Using Best Params"
      ]
    },
    {
      "cell_type": "code",
      "metadata": {
        "id": "BRq31HTgksxL"
      },
      "source": [
        "clf = LogisticRegression(max_iter=300,random_state=7)"
      ],
      "execution_count": null,
      "outputs": []
    },
    {
      "cell_type": "code",
      "metadata": {
        "colab": {
          "base_uri": "https://localhost:8080/"
        },
        "id": "2KspTGXllRrc",
        "outputId": "abc801a2-856a-4d21-dd66-85f6cb8916b3"
      },
      "source": [
        "clf.fit(X_train_new,Y_train_new)"
      ],
      "execution_count": null,
      "outputs": [
        {
          "output_type": "stream",
          "name": "stderr",
          "text": [
            "/usr/local/lib/python3.7/dist-packages/sklearn/linear_model/_logistic.py:940: ConvergenceWarning: lbfgs failed to converge (status=1):\n",
            "STOP: TOTAL NO. of ITERATIONS REACHED LIMIT.\n",
            "\n",
            "Increase the number of iterations (max_iter) or scale the data as shown in:\n",
            "    https://scikit-learn.org/stable/modules/preprocessing.html\n",
            "Please also refer to the documentation for alternative solver options:\n",
            "    https://scikit-learn.org/stable/modules/linear_model.html#logistic-regression\n",
            "  extra_warning_msg=_LOGISTIC_SOLVER_CONVERGENCE_MSG)\n"
          ]
        },
        {
          "output_type": "execute_result",
          "data": {
            "text/plain": [
              "LogisticRegression(C=1.0, class_weight=None, dual=False, fit_intercept=True,\n",
              "                   intercept_scaling=1, l1_ratio=None, max_iter=300,\n",
              "                   multi_class='auto', n_jobs=None, penalty='l2',\n",
              "                   random_state=7, solver='lbfgs', tol=0.0001, verbose=0,\n",
              "                   warm_start=False)"
            ]
          },
          "metadata": {},
          "execution_count": 73
        }
      ]
    },
    {
      "cell_type": "code",
      "metadata": {
        "id": "jSB3IpRIlb_M"
      },
      "source": [
        "Y_predict=clf.predict(X_test)"
      ],
      "execution_count": null,
      "outputs": []
    },
    {
      "cell_type": "code",
      "metadata": {
        "colab": {
          "base_uri": "https://localhost:8080/"
        },
        "id": "z6s8Zrf890tU",
        "outputId": "1e770279-7af5-4fea-a50e-335ece0c7961"
      },
      "source": [
        "from sklearn.metrics import confusion_matrix,accuracy_score\n",
        "# Calculate Confusion Matrix\n",
        "cf_mat=confusion_matrix(Y_test,Y_predict)\n",
        "\n",
        "# Calculate Accuracy\n",
        "acc = accuracy_score(Y_test,Y_predict)\n",
        "\n",
        "#Print Results\n",
        "print(\"Confusion Matrix \\n\",cf_mat)\n",
        "print(\"Accuracy : \",acc)"
      ],
      "execution_count": null,
      "outputs": [
        {
          "output_type": "stream",
          "name": "stdout",
          "text": [
            "Confusion Matrix \n",
            " [[9426 1557]\n",
            " [ 166 1208]]\n",
            "Accuracy :  0.8605648620215263\n"
          ]
        }
      ]
    },
    {
      "cell_type": "code",
      "metadata": {
        "colab": {
          "base_uri": "https://localhost:8080/"
        },
        "id": "YuEAQz1amJPi",
        "outputId": "1299d174-d587-4caa-b636-a8dc946b98bf"
      },
      "source": [
        "from sklearn.metrics import precision_recall_fscore_support\n",
        "precision_recall_fscore_support(Y_test, Y_predict)"
      ],
      "execution_count": null,
      "outputs": [
        {
          "output_type": "execute_result",
          "data": {
            "text/plain": [
              "(array([0.98269391, 0.43688969]),\n",
              " array([0.85823545, 0.87918486]),\n",
              " array([0.91625759, 0.58371587]),\n",
              " array([10983,  1374]))"
            ]
          },
          "metadata": {},
          "execution_count": 76
        }
      ]
    },
    {
      "cell_type": "markdown",
      "metadata": {
        "id": "NBycUo3cVUS8"
      },
      "source": [
        "##XgBoost"
      ]
    },
    {
      "cell_type": "code",
      "metadata": {
        "id": "6NjIV7H-96iu"
      },
      "source": [
        "from sklearn.ensemble import GradientBoostingClassifier"
      ],
      "execution_count": null,
      "outputs": []
    },
    {
      "cell_type": "code",
      "metadata": {
        "id": "EzUfJ81TVYQE"
      },
      "source": [
        "xgbc = GradientBoostingClassifier(n_estimators=100, learning_rate=1.0, random_state=7)"
      ],
      "execution_count": null,
      "outputs": []
    },
    {
      "cell_type": "code",
      "metadata": {
        "colab": {
          "base_uri": "https://localhost:8080/"
        },
        "id": "s5HAewHrVfzP",
        "outputId": "8924ae0a-a9c8-42cd-972d-15c8ec27c513"
      },
      "source": [
        "xgbc.fit(X_train_new, Y_train_new)"
      ],
      "execution_count": null,
      "outputs": [
        {
          "output_type": "execute_result",
          "data": {
            "text/plain": [
              "GradientBoostingClassifier(ccp_alpha=0.0, criterion='friedman_mse', init=None,\n",
              "                           learning_rate=1.0, loss='deviance', max_depth=3,\n",
              "                           max_features=None, max_leaf_nodes=None,\n",
              "                           min_impurity_decrease=0.0, min_impurity_split=None,\n",
              "                           min_samples_leaf=1, min_samples_split=2,\n",
              "                           min_weight_fraction_leaf=0.0, n_estimators=100,\n",
              "                           n_iter_no_change=None, presort='deprecated',\n",
              "                           random_state=7, subsample=1.0, tol=0.0001,\n",
              "                           validation_fraction=0.1, verbose=0,\n",
              "                           warm_start=False)"
            ]
          },
          "metadata": {},
          "execution_count": 34
        }
      ]
    },
    {
      "cell_type": "code",
      "metadata": {
        "id": "LKbkRlJdVi26"
      },
      "source": [
        "Y_pred = xgbc.predict(X_test)\n"
      ],
      "execution_count": null,
      "outputs": []
    },
    {
      "cell_type": "code",
      "metadata": {
        "colab": {
          "base_uri": "https://localhost:8080/"
        },
        "id": "eG0C_GYVVln-",
        "outputId": "e26eba19-2004-45d2-a197-eb623b9f0d57"
      },
      "source": [
        "from sklearn.metrics import confusion_matrix,accuracy_score\n",
        "cf=confusion_matrix(Y_test,Y_pred)\n",
        "acc = accuracy_score(Y_test,Y_pred)\n",
        "print(\"Accuracy\",acc)\n",
        "print(\"confusion Matrix\\n\",cf)"
      ],
      "execution_count": null,
      "outputs": [
        {
          "output_type": "stream",
          "name": "stdout",
          "text": [
            "Accuracy 0.8617787488872704\n",
            "confusion Matrix\n",
            " [[9436 1547]\n",
            " [ 161 1213]]\n"
          ]
        }
      ]
    },
    {
      "cell_type": "code",
      "metadata": {
        "colab": {
          "base_uri": "https://localhost:8080/"
        },
        "id": "uS7BuSAjVqJT",
        "outputId": "eb845f81-bf95-4e64-c9b9-59af3c85dca0"
      },
      "source": [
        "from sklearn.metrics import precision_recall_fscore_support\n",
        "precision_recall_fscore_support(Y_test,Y_pred)"
      ],
      "execution_count": null,
      "outputs": [
        {
          "output_type": "execute_result",
          "data": {
            "text/plain": [
              "(array([0.98322392, 0.43949275]),\n",
              " array([0.85914595, 0.88282387]),\n",
              " array([0.9170068 , 0.58684083]),\n",
              " array([10983,  1374]))"
            ]
          },
          "metadata": {},
          "execution_count": 37
        }
      ]
    },
    {
      "cell_type": "markdown",
      "metadata": {
        "id": "yKfK5YJgVw2G"
      },
      "source": [
        "#### Fine tune\n",
        "\n",
        "- n estimors\n",
        "\n",
        "- subsample=1.0\n",
        "\n",
        "- n_iter_no_change=None\n",
        "\n",
        "- learning rate "
      ]
    },
    {
      "cell_type": "code",
      "metadata": {
        "id": "U483U5JpVyJw"
      },
      "source": [
        "param_grid = { \n",
        "    'n_estimators': [50,100,200],\n",
        "    'subsample' : [0.7,0.8],\n",
        "    'n_iter_no_change' : [10,15,50],\n",
        "    'learning_rate' : [0.5,0.1,0.01]\n",
        "}"
      ],
      "execution_count": null,
      "outputs": []
    },
    {
      "cell_type": "code",
      "metadata": {
        "id": "2wRvdpzKWAdD"
      },
      "source": [
        "xgbc = GradientBoostingClassifier(random_state=7)"
      ],
      "execution_count": null,
      "outputs": []
    },
    {
      "cell_type": "code",
      "metadata": {
        "id": "B21EV7E0WCwe"
      },
      "source": [
        "from sklearn.model_selection import GridSearchCV\n",
        "CV_xgbc = GridSearchCV(estimator=xgbc, param_grid=param_grid,\\\n",
        "                      cv= 2, verbose=2)"
      ],
      "execution_count": null,
      "outputs": []
    },
    {
      "cell_type": "code",
      "metadata": {
        "colab": {
          "base_uri": "https://localhost:8080/"
        },
        "id": "Fjd0KGFzWFcK",
        "outputId": "10a90a80-6768-407c-a97b-ca6f5e32db40"
      },
      "source": [
        "CV_xgbc.fit(X_train_new, Y_train_new)"
      ],
      "execution_count": null,
      "outputs": [
        {
          "output_type": "stream",
          "name": "stdout",
          "text": [
            "Fitting 2 folds for each of 54 candidates, totalling 108 fits\n",
            "[CV] learning_rate=0.5, n_estimators=50, n_iter_no_change=10, subsample=0.7 \n",
            "[CV]  learning_rate=0.5, n_estimators=50, n_iter_no_change=10, subsample=0.7, total=   0.1s\n",
            "[CV] learning_rate=0.5, n_estimators=50, n_iter_no_change=10, subsample=0.7 \n"
          ]
        },
        {
          "output_type": "stream",
          "name": "stderr",
          "text": [
            "[Parallel(n_jobs=1)]: Using backend SequentialBackend with 1 concurrent workers.\n",
            "[Parallel(n_jobs=1)]: Done   1 out of   1 | elapsed:    0.1s remaining:    0.0s\n"
          ]
        },
        {
          "output_type": "stream",
          "name": "stdout",
          "text": [
            "[CV]  learning_rate=0.5, n_estimators=50, n_iter_no_change=10, subsample=0.7, total=   0.1s\n",
            "[CV] learning_rate=0.5, n_estimators=50, n_iter_no_change=10, subsample=0.8 \n",
            "[CV]  learning_rate=0.5, n_estimators=50, n_iter_no_change=10, subsample=0.8, total=   0.1s\n",
            "[CV] learning_rate=0.5, n_estimators=50, n_iter_no_change=10, subsample=0.8 \n",
            "[CV]  learning_rate=0.5, n_estimators=50, n_iter_no_change=10, subsample=0.8, total=   0.1s\n",
            "[CV] learning_rate=0.5, n_estimators=50, n_iter_no_change=15, subsample=0.7 \n",
            "[CV]  learning_rate=0.5, n_estimators=50, n_iter_no_change=15, subsample=0.7, total=   0.1s\n",
            "[CV] learning_rate=0.5, n_estimators=50, n_iter_no_change=15, subsample=0.7 \n",
            "[CV]  learning_rate=0.5, n_estimators=50, n_iter_no_change=15, subsample=0.7, total=   0.2s\n",
            "[CV] learning_rate=0.5, n_estimators=50, n_iter_no_change=15, subsample=0.8 \n",
            "[CV]  learning_rate=0.5, n_estimators=50, n_iter_no_change=15, subsample=0.8, total=   0.2s\n",
            "[CV] learning_rate=0.5, n_estimators=50, n_iter_no_change=15, subsample=0.8 \n",
            "[CV]  learning_rate=0.5, n_estimators=50, n_iter_no_change=15, subsample=0.8, total=   0.3s\n",
            "[CV] learning_rate=0.5, n_estimators=50, n_iter_no_change=50, subsample=0.7 \n",
            "[CV]  learning_rate=0.5, n_estimators=50, n_iter_no_change=50, subsample=0.7, total=   0.3s\n",
            "[CV] learning_rate=0.5, n_estimators=50, n_iter_no_change=50, subsample=0.7 \n",
            "[CV]  learning_rate=0.5, n_estimators=50, n_iter_no_change=50, subsample=0.7, total=   0.3s\n",
            "[CV] learning_rate=0.5, n_estimators=50, n_iter_no_change=50, subsample=0.8 \n",
            "[CV]  learning_rate=0.5, n_estimators=50, n_iter_no_change=50, subsample=0.8, total=   0.4s\n",
            "[CV] learning_rate=0.5, n_estimators=50, n_iter_no_change=50, subsample=0.8 \n",
            "[CV]  learning_rate=0.5, n_estimators=50, n_iter_no_change=50, subsample=0.8, total=   0.4s\n",
            "[CV] learning_rate=0.5, n_estimators=100, n_iter_no_change=10, subsample=0.7 \n",
            "[CV]  learning_rate=0.5, n_estimators=100, n_iter_no_change=10, subsample=0.7, total=   0.1s\n",
            "[CV] learning_rate=0.5, n_estimators=100, n_iter_no_change=10, subsample=0.7 \n",
            "[CV]  learning_rate=0.5, n_estimators=100, n_iter_no_change=10, subsample=0.7, total=   0.1s\n",
            "[CV] learning_rate=0.5, n_estimators=100, n_iter_no_change=10, subsample=0.8 \n",
            "[CV]  learning_rate=0.5, n_estimators=100, n_iter_no_change=10, subsample=0.8, total=   0.1s\n",
            "[CV] learning_rate=0.5, n_estimators=100, n_iter_no_change=10, subsample=0.8 \n",
            "[CV]  learning_rate=0.5, n_estimators=100, n_iter_no_change=10, subsample=0.8, total=   0.1s\n",
            "[CV] learning_rate=0.5, n_estimators=100, n_iter_no_change=15, subsample=0.7 \n",
            "[CV]  learning_rate=0.5, n_estimators=100, n_iter_no_change=15, subsample=0.7, total=   0.1s\n",
            "[CV] learning_rate=0.5, n_estimators=100, n_iter_no_change=15, subsample=0.7 \n",
            "[CV]  learning_rate=0.5, n_estimators=100, n_iter_no_change=15, subsample=0.7, total=   0.2s\n",
            "[CV] learning_rate=0.5, n_estimators=100, n_iter_no_change=15, subsample=0.8 \n",
            "[CV]  learning_rate=0.5, n_estimators=100, n_iter_no_change=15, subsample=0.8, total=   0.2s\n",
            "[CV] learning_rate=0.5, n_estimators=100, n_iter_no_change=15, subsample=0.8 \n",
            "[CV]  learning_rate=0.5, n_estimators=100, n_iter_no_change=15, subsample=0.8, total=   0.3s\n",
            "[CV] learning_rate=0.5, n_estimators=100, n_iter_no_change=50, subsample=0.7 \n",
            "[CV]  learning_rate=0.5, n_estimators=100, n_iter_no_change=50, subsample=0.7, total=   0.4s\n",
            "[CV] learning_rate=0.5, n_estimators=100, n_iter_no_change=50, subsample=0.7 \n",
            "[CV]  learning_rate=0.5, n_estimators=100, n_iter_no_change=50, subsample=0.7, total=   0.4s\n",
            "[CV] learning_rate=0.5, n_estimators=100, n_iter_no_change=50, subsample=0.8 \n",
            "[CV]  learning_rate=0.5, n_estimators=100, n_iter_no_change=50, subsample=0.8, total=   0.4s\n",
            "[CV] learning_rate=0.5, n_estimators=100, n_iter_no_change=50, subsample=0.8 \n",
            "[CV]  learning_rate=0.5, n_estimators=100, n_iter_no_change=50, subsample=0.8, total=   0.7s\n",
            "[CV] learning_rate=0.5, n_estimators=200, n_iter_no_change=10, subsample=0.7 \n",
            "[CV]  learning_rate=0.5, n_estimators=200, n_iter_no_change=10, subsample=0.7, total=   0.1s\n",
            "[CV] learning_rate=0.5, n_estimators=200, n_iter_no_change=10, subsample=0.7 \n",
            "[CV]  learning_rate=0.5, n_estimators=200, n_iter_no_change=10, subsample=0.7, total=   0.1s\n",
            "[CV] learning_rate=0.5, n_estimators=200, n_iter_no_change=10, subsample=0.8 \n",
            "[CV]  learning_rate=0.5, n_estimators=200, n_iter_no_change=10, subsample=0.8, total=   0.1s\n",
            "[CV] learning_rate=0.5, n_estimators=200, n_iter_no_change=10, subsample=0.8 \n",
            "[CV]  learning_rate=0.5, n_estimators=200, n_iter_no_change=10, subsample=0.8, total=   0.1s\n",
            "[CV] learning_rate=0.5, n_estimators=200, n_iter_no_change=15, subsample=0.7 \n",
            "[CV]  learning_rate=0.5, n_estimators=200, n_iter_no_change=15, subsample=0.7, total=   0.1s\n",
            "[CV] learning_rate=0.5, n_estimators=200, n_iter_no_change=15, subsample=0.7 \n",
            "[CV]  learning_rate=0.5, n_estimators=200, n_iter_no_change=15, subsample=0.7, total=   0.2s\n",
            "[CV] learning_rate=0.5, n_estimators=200, n_iter_no_change=15, subsample=0.8 \n",
            "[CV]  learning_rate=0.5, n_estimators=200, n_iter_no_change=15, subsample=0.8, total=   0.2s\n",
            "[CV] learning_rate=0.5, n_estimators=200, n_iter_no_change=15, subsample=0.8 \n",
            "[CV]  learning_rate=0.5, n_estimators=200, n_iter_no_change=15, subsample=0.8, total=   0.3s\n",
            "[CV] learning_rate=0.5, n_estimators=200, n_iter_no_change=50, subsample=0.7 \n",
            "[CV]  learning_rate=0.5, n_estimators=200, n_iter_no_change=50, subsample=0.7, total=   0.4s\n",
            "[CV] learning_rate=0.5, n_estimators=200, n_iter_no_change=50, subsample=0.7 \n",
            "[CV]  learning_rate=0.5, n_estimators=200, n_iter_no_change=50, subsample=0.7, total=   0.4s\n",
            "[CV] learning_rate=0.5, n_estimators=200, n_iter_no_change=50, subsample=0.8 \n",
            "[CV]  learning_rate=0.5, n_estimators=200, n_iter_no_change=50, subsample=0.8, total=   0.4s\n",
            "[CV] learning_rate=0.5, n_estimators=200, n_iter_no_change=50, subsample=0.8 \n",
            "[CV]  learning_rate=0.5, n_estimators=200, n_iter_no_change=50, subsample=0.8, total=   0.7s\n",
            "[CV] learning_rate=0.1, n_estimators=50, n_iter_no_change=10, subsample=0.7 \n",
            "[CV]  learning_rate=0.1, n_estimators=50, n_iter_no_change=10, subsample=0.7, total=   0.3s\n",
            "[CV] learning_rate=0.1, n_estimators=50, n_iter_no_change=10, subsample=0.7 \n",
            "[CV]  learning_rate=0.1, n_estimators=50, n_iter_no_change=10, subsample=0.7, total=   0.3s\n",
            "[CV] learning_rate=0.1, n_estimators=50, n_iter_no_change=10, subsample=0.8 \n",
            "[CV]  learning_rate=0.1, n_estimators=50, n_iter_no_change=10, subsample=0.8, total=   0.3s\n",
            "[CV] learning_rate=0.1, n_estimators=50, n_iter_no_change=10, subsample=0.8 \n",
            "[CV]  learning_rate=0.1, n_estimators=50, n_iter_no_change=10, subsample=0.8, total=   0.4s\n",
            "[CV] learning_rate=0.1, n_estimators=50, n_iter_no_change=15, subsample=0.7 \n",
            "[CV]  learning_rate=0.1, n_estimators=50, n_iter_no_change=15, subsample=0.7, total=   0.3s\n",
            "[CV] learning_rate=0.1, n_estimators=50, n_iter_no_change=15, subsample=0.7 \n",
            "[CV]  learning_rate=0.1, n_estimators=50, n_iter_no_change=15, subsample=0.7, total=   0.3s\n",
            "[CV] learning_rate=0.1, n_estimators=50, n_iter_no_change=15, subsample=0.8 \n",
            "[CV]  learning_rate=0.1, n_estimators=50, n_iter_no_change=15, subsample=0.8, total=   0.4s\n",
            "[CV] learning_rate=0.1, n_estimators=50, n_iter_no_change=15, subsample=0.8 \n",
            "[CV]  learning_rate=0.1, n_estimators=50, n_iter_no_change=15, subsample=0.8, total=   0.4s\n",
            "[CV] learning_rate=0.1, n_estimators=50, n_iter_no_change=50, subsample=0.7 \n",
            "[CV]  learning_rate=0.1, n_estimators=50, n_iter_no_change=50, subsample=0.7, total=   0.3s\n",
            "[CV] learning_rate=0.1, n_estimators=50, n_iter_no_change=50, subsample=0.7 \n",
            "[CV]  learning_rate=0.1, n_estimators=50, n_iter_no_change=50, subsample=0.7, total=   0.3s\n",
            "[CV] learning_rate=0.1, n_estimators=50, n_iter_no_change=50, subsample=0.8 \n",
            "[CV]  learning_rate=0.1, n_estimators=50, n_iter_no_change=50, subsample=0.8, total=   0.4s\n",
            "[CV] learning_rate=0.1, n_estimators=50, n_iter_no_change=50, subsample=0.8 \n",
            "[CV]  learning_rate=0.1, n_estimators=50, n_iter_no_change=50, subsample=0.8, total=   0.4s\n",
            "[CV] learning_rate=0.1, n_estimators=100, n_iter_no_change=10, subsample=0.7 \n",
            "[CV]  learning_rate=0.1, n_estimators=100, n_iter_no_change=10, subsample=0.7, total=   0.5s\n",
            "[CV] learning_rate=0.1, n_estimators=100, n_iter_no_change=10, subsample=0.7 \n",
            "[CV]  learning_rate=0.1, n_estimators=100, n_iter_no_change=10, subsample=0.7, total=   0.6s\n",
            "[CV] learning_rate=0.1, n_estimators=100, n_iter_no_change=10, subsample=0.8 \n",
            "[CV]  learning_rate=0.1, n_estimators=100, n_iter_no_change=10, subsample=0.8, total=   0.4s\n",
            "[CV] learning_rate=0.1, n_estimators=100, n_iter_no_change=10, subsample=0.8 \n",
            "[CV]  learning_rate=0.1, n_estimators=100, n_iter_no_change=10, subsample=0.8, total=   0.7s\n",
            "[CV] learning_rate=0.1, n_estimators=100, n_iter_no_change=15, subsample=0.7 \n",
            "[CV]  learning_rate=0.1, n_estimators=100, n_iter_no_change=15, subsample=0.7, total=   0.5s\n",
            "[CV] learning_rate=0.1, n_estimators=100, n_iter_no_change=15, subsample=0.7 \n",
            "[CV]  learning_rate=0.1, n_estimators=100, n_iter_no_change=15, subsample=0.7, total=   0.6s\n",
            "[CV] learning_rate=0.1, n_estimators=100, n_iter_no_change=15, subsample=0.8 \n",
            "[CV]  learning_rate=0.1, n_estimators=100, n_iter_no_change=15, subsample=0.8, total=   0.4s\n",
            "[CV] learning_rate=0.1, n_estimators=100, n_iter_no_change=15, subsample=0.8 \n",
            "[CV]  learning_rate=0.1, n_estimators=100, n_iter_no_change=15, subsample=0.8, total=   0.7s\n",
            "[CV] learning_rate=0.1, n_estimators=100, n_iter_no_change=50, subsample=0.7 \n",
            "[CV]  learning_rate=0.1, n_estimators=100, n_iter_no_change=50, subsample=0.7, total=   0.6s\n",
            "[CV] learning_rate=0.1, n_estimators=100, n_iter_no_change=50, subsample=0.7 \n",
            "[CV]  learning_rate=0.1, n_estimators=100, n_iter_no_change=50, subsample=0.7, total=   0.6s\n",
            "[CV] learning_rate=0.1, n_estimators=100, n_iter_no_change=50, subsample=0.8 \n",
            "[CV]  learning_rate=0.1, n_estimators=100, n_iter_no_change=50, subsample=0.8, total=   0.7s\n",
            "[CV] learning_rate=0.1, n_estimators=100, n_iter_no_change=50, subsample=0.8 \n",
            "[CV]  learning_rate=0.1, n_estimators=100, n_iter_no_change=50, subsample=0.8, total=   0.7s\n",
            "[CV] learning_rate=0.1, n_estimators=200, n_iter_no_change=10, subsample=0.7 \n",
            "[CV]  learning_rate=0.1, n_estimators=200, n_iter_no_change=10, subsample=0.7, total=   0.4s\n",
            "[CV] learning_rate=0.1, n_estimators=200, n_iter_no_change=10, subsample=0.7 \n",
            "[CV]  learning_rate=0.1, n_estimators=200, n_iter_no_change=10, subsample=0.7, total=   0.6s\n",
            "[CV] learning_rate=0.1, n_estimators=200, n_iter_no_change=10, subsample=0.8 \n",
            "[CV]  learning_rate=0.1, n_estimators=200, n_iter_no_change=10, subsample=0.8, total=   0.4s\n",
            "[CV] learning_rate=0.1, n_estimators=200, n_iter_no_change=10, subsample=0.8 \n",
            "[CV]  learning_rate=0.1, n_estimators=200, n_iter_no_change=10, subsample=0.8, total=   0.8s\n",
            "[CV] learning_rate=0.1, n_estimators=200, n_iter_no_change=15, subsample=0.7 \n",
            "[CV]  learning_rate=0.1, n_estimators=200, n_iter_no_change=15, subsample=0.7, total=   0.5s\n",
            "[CV] learning_rate=0.1, n_estimators=200, n_iter_no_change=15, subsample=0.7 \n",
            "[CV]  learning_rate=0.1, n_estimators=200, n_iter_no_change=15, subsample=0.7, total=   0.6s\n",
            "[CV] learning_rate=0.1, n_estimators=200, n_iter_no_change=15, subsample=0.8 \n",
            "[CV]  learning_rate=0.1, n_estimators=200, n_iter_no_change=15, subsample=0.8, total=   0.5s\n",
            "[CV] learning_rate=0.1, n_estimators=200, n_iter_no_change=15, subsample=0.8 \n",
            "[CV]  learning_rate=0.1, n_estimators=200, n_iter_no_change=15, subsample=0.8, total=   0.8s\n",
            "[CV] learning_rate=0.1, n_estimators=200, n_iter_no_change=50, subsample=0.7 \n",
            "[CV]  learning_rate=0.1, n_estimators=200, n_iter_no_change=50, subsample=0.7, total=   0.7s\n",
            "[CV] learning_rate=0.1, n_estimators=200, n_iter_no_change=50, subsample=0.7 \n",
            "[CV]  learning_rate=0.1, n_estimators=200, n_iter_no_change=50, subsample=0.7, total=   0.9s\n",
            "[CV] learning_rate=0.1, n_estimators=200, n_iter_no_change=50, subsample=0.8 \n",
            "[CV]  learning_rate=0.1, n_estimators=200, n_iter_no_change=50, subsample=0.8, total=   1.1s\n",
            "[CV] learning_rate=0.1, n_estimators=200, n_iter_no_change=50, subsample=0.8 \n",
            "[CV]  learning_rate=0.1, n_estimators=200, n_iter_no_change=50, subsample=0.8, total=   1.3s\n",
            "[CV] learning_rate=0.01, n_estimators=50, n_iter_no_change=10, subsample=0.7 \n",
            "[CV]  learning_rate=0.01, n_estimators=50, n_iter_no_change=10, subsample=0.7, total=   0.3s\n",
            "[CV] learning_rate=0.01, n_estimators=50, n_iter_no_change=10, subsample=0.7 \n",
            "[CV]  learning_rate=0.01, n_estimators=50, n_iter_no_change=10, subsample=0.7, total=   0.3s\n",
            "[CV] learning_rate=0.01, n_estimators=50, n_iter_no_change=10, subsample=0.8 \n",
            "[CV]  learning_rate=0.01, n_estimators=50, n_iter_no_change=10, subsample=0.8, total=   0.4s\n",
            "[CV] learning_rate=0.01, n_estimators=50, n_iter_no_change=10, subsample=0.8 \n",
            "[CV]  learning_rate=0.01, n_estimators=50, n_iter_no_change=10, subsample=0.8, total=   0.3s\n",
            "[CV] learning_rate=0.01, n_estimators=50, n_iter_no_change=15, subsample=0.7 \n",
            "[CV]  learning_rate=0.01, n_estimators=50, n_iter_no_change=15, subsample=0.7, total=   0.3s\n",
            "[CV] learning_rate=0.01, n_estimators=50, n_iter_no_change=15, subsample=0.7 \n",
            "[CV]  learning_rate=0.01, n_estimators=50, n_iter_no_change=15, subsample=0.7, total=   0.3s\n",
            "[CV] learning_rate=0.01, n_estimators=50, n_iter_no_change=15, subsample=0.8 \n",
            "[CV]  learning_rate=0.01, n_estimators=50, n_iter_no_change=15, subsample=0.8, total=   0.4s\n",
            "[CV] learning_rate=0.01, n_estimators=50, n_iter_no_change=15, subsample=0.8 \n",
            "[CV]  learning_rate=0.01, n_estimators=50, n_iter_no_change=15, subsample=0.8, total=   0.4s\n",
            "[CV] learning_rate=0.01, n_estimators=50, n_iter_no_change=50, subsample=0.7 \n",
            "[CV]  learning_rate=0.01, n_estimators=50, n_iter_no_change=50, subsample=0.7, total=   0.3s\n",
            "[CV] learning_rate=0.01, n_estimators=50, n_iter_no_change=50, subsample=0.7 \n",
            "[CV]  learning_rate=0.01, n_estimators=50, n_iter_no_change=50, subsample=0.7, total=   0.3s\n",
            "[CV] learning_rate=0.01, n_estimators=50, n_iter_no_change=50, subsample=0.8 \n",
            "[CV]  learning_rate=0.01, n_estimators=50, n_iter_no_change=50, subsample=0.8, total=   0.4s\n",
            "[CV] learning_rate=0.01, n_estimators=50, n_iter_no_change=50, subsample=0.8 \n",
            "[CV]  learning_rate=0.01, n_estimators=50, n_iter_no_change=50, subsample=0.8, total=   0.4s\n",
            "[CV] learning_rate=0.01, n_estimators=100, n_iter_no_change=10, subsample=0.7 \n",
            "[CV]  learning_rate=0.01, n_estimators=100, n_iter_no_change=10, subsample=0.7, total=   0.7s\n",
            "[CV] learning_rate=0.01, n_estimators=100, n_iter_no_change=10, subsample=0.7 \n",
            "[CV]  learning_rate=0.01, n_estimators=100, n_iter_no_change=10, subsample=0.7, total=   0.6s\n",
            "[CV] learning_rate=0.01, n_estimators=100, n_iter_no_change=10, subsample=0.8 \n",
            "[CV]  learning_rate=0.01, n_estimators=100, n_iter_no_change=10, subsample=0.8, total=   0.7s\n",
            "[CV] learning_rate=0.01, n_estimators=100, n_iter_no_change=10, subsample=0.8 \n",
            "[CV]  learning_rate=0.01, n_estimators=100, n_iter_no_change=10, subsample=0.8, total=   0.7s\n",
            "[CV] learning_rate=0.01, n_estimators=100, n_iter_no_change=15, subsample=0.7 \n",
            "[CV]  learning_rate=0.01, n_estimators=100, n_iter_no_change=15, subsample=0.7, total=   0.6s\n",
            "[CV] learning_rate=0.01, n_estimators=100, n_iter_no_change=15, subsample=0.7 \n",
            "[CV]  learning_rate=0.01, n_estimators=100, n_iter_no_change=15, subsample=0.7, total=   0.6s\n",
            "[CV] learning_rate=0.01, n_estimators=100, n_iter_no_change=15, subsample=0.8 \n",
            "[CV]  learning_rate=0.01, n_estimators=100, n_iter_no_change=15, subsample=0.8, total=   0.7s\n",
            "[CV] learning_rate=0.01, n_estimators=100, n_iter_no_change=15, subsample=0.8 \n",
            "[CV]  learning_rate=0.01, n_estimators=100, n_iter_no_change=15, subsample=0.8, total=   0.7s\n",
            "[CV] learning_rate=0.01, n_estimators=100, n_iter_no_change=50, subsample=0.7 \n",
            "[CV]  learning_rate=0.01, n_estimators=100, n_iter_no_change=50, subsample=0.7, total=   0.6s\n",
            "[CV] learning_rate=0.01, n_estimators=100, n_iter_no_change=50, subsample=0.7 \n",
            "[CV]  learning_rate=0.01, n_estimators=100, n_iter_no_change=50, subsample=0.7, total=   0.6s\n",
            "[CV] learning_rate=0.01, n_estimators=100, n_iter_no_change=50, subsample=0.8 \n",
            "[CV]  learning_rate=0.01, n_estimators=100, n_iter_no_change=50, subsample=0.8, total=   0.7s\n",
            "[CV] learning_rate=0.01, n_estimators=100, n_iter_no_change=50, subsample=0.8 \n",
            "[CV]  learning_rate=0.01, n_estimators=100, n_iter_no_change=50, subsample=0.8, total=   0.7s\n",
            "[CV] learning_rate=0.01, n_estimators=200, n_iter_no_change=10, subsample=0.7 \n",
            "[CV]  learning_rate=0.01, n_estimators=200, n_iter_no_change=10, subsample=0.7, total=   1.2s\n",
            "[CV] learning_rate=0.01, n_estimators=200, n_iter_no_change=10, subsample=0.7 \n",
            "[CV]  learning_rate=0.01, n_estimators=200, n_iter_no_change=10, subsample=0.7, total=   1.3s\n",
            "[CV] learning_rate=0.01, n_estimators=200, n_iter_no_change=10, subsample=0.8 \n",
            "[CV]  learning_rate=0.01, n_estimators=200, n_iter_no_change=10, subsample=0.8, total=   1.4s\n",
            "[CV] learning_rate=0.01, n_estimators=200, n_iter_no_change=10, subsample=0.8 \n",
            "[CV]  learning_rate=0.01, n_estimators=200, n_iter_no_change=10, subsample=0.8, total=   1.3s\n",
            "[CV] learning_rate=0.01, n_estimators=200, n_iter_no_change=15, subsample=0.7 \n",
            "[CV]  learning_rate=0.01, n_estimators=200, n_iter_no_change=15, subsample=0.7, total=   1.2s\n",
            "[CV] learning_rate=0.01, n_estimators=200, n_iter_no_change=15, subsample=0.7 \n",
            "[CV]  learning_rate=0.01, n_estimators=200, n_iter_no_change=15, subsample=0.7, total=   1.2s\n",
            "[CV] learning_rate=0.01, n_estimators=200, n_iter_no_change=15, subsample=0.8 \n",
            "[CV]  learning_rate=0.01, n_estimators=200, n_iter_no_change=15, subsample=0.8, total=   1.4s\n",
            "[CV] learning_rate=0.01, n_estimators=200, n_iter_no_change=15, subsample=0.8 \n",
            "[CV]  learning_rate=0.01, n_estimators=200, n_iter_no_change=15, subsample=0.8, total=   1.4s\n",
            "[CV] learning_rate=0.01, n_estimators=200, n_iter_no_change=50, subsample=0.7 \n",
            "[CV]  learning_rate=0.01, n_estimators=200, n_iter_no_change=50, subsample=0.7, total=   1.3s\n",
            "[CV] learning_rate=0.01, n_estimators=200, n_iter_no_change=50, subsample=0.7 \n",
            "[CV]  learning_rate=0.01, n_estimators=200, n_iter_no_change=50, subsample=0.7, total=   1.2s\n",
            "[CV] learning_rate=0.01, n_estimators=200, n_iter_no_change=50, subsample=0.8 \n",
            "[CV]  learning_rate=0.01, n_estimators=200, n_iter_no_change=50, subsample=0.8, total=   1.4s\n",
            "[CV] learning_rate=0.01, n_estimators=200, n_iter_no_change=50, subsample=0.8 \n",
            "[CV]  learning_rate=0.01, n_estimators=200, n_iter_no_change=50, subsample=0.8, total=   1.4s\n"
          ]
        },
        {
          "output_type": "stream",
          "name": "stderr",
          "text": [
            "[Parallel(n_jobs=1)]: Done 108 out of 108 | elapsed:   56.3s finished\n"
          ]
        },
        {
          "output_type": "execute_result",
          "data": {
            "text/plain": [
              "GridSearchCV(cv=2, error_score=nan,\n",
              "             estimator=GradientBoostingClassifier(ccp_alpha=0.0,\n",
              "                                                  criterion='friedman_mse',\n",
              "                                                  init=None, learning_rate=0.1,\n",
              "                                                  loss='deviance', max_depth=3,\n",
              "                                                  max_features=None,\n",
              "                                                  max_leaf_nodes=None,\n",
              "                                                  min_impurity_decrease=0.0,\n",
              "                                                  min_impurity_split=None,\n",
              "                                                  min_samples_leaf=1,\n",
              "                                                  min_samples_split=2,\n",
              "                                                  min_weight_fraction_leaf=0.0,\n",
              "                                                  n_estimators=100,\n",
              "                                                  n_iter_no_c...,\n",
              "                                                  presort='deprecated',\n",
              "                                                  random_state=7, subsample=1.0,\n",
              "                                                  tol=0.0001,\n",
              "                                                  validation_fraction=0.1,\n",
              "                                                  verbose=0, warm_start=False),\n",
              "             iid='deprecated', n_jobs=None,\n",
              "             param_grid={'learning_rate': [0.5, 0.1, 0.01],\n",
              "                         'n_estimators': [50, 100, 200],\n",
              "                         'n_iter_no_change': [10, 15, 50],\n",
              "                         'subsample': [0.7, 0.8]},\n",
              "             pre_dispatch='2*n_jobs', refit=True, return_train_score=False,\n",
              "             scoring=None, verbose=2)"
            ]
          },
          "metadata": {},
          "execution_count": 65
        }
      ]
    },
    {
      "cell_type": "code",
      "metadata": {
        "colab": {
          "base_uri": "https://localhost:8080/"
        },
        "id": "e8FuQDB9WJKW",
        "outputId": "a8412868-b6a4-4146-8c4d-6ef50055e380"
      },
      "source": [
        "print(CV_xgbc.best_params_)\n",
        "print(CV_xgbc.cv_results_['mean_test_score'])\n",
        "print(sum(CV_xgbc.cv_results_['mean_test_score'])/ len(CV_xgbc.cv_results_['mean_test_score']))"
      ],
      "execution_count": null,
      "outputs": [
        {
          "output_type": "stream",
          "name": "stdout",
          "text": [
            "{'learning_rate': 0.1, 'n_estimators': 100, 'n_iter_no_change': 50, 'subsample': 0.8}\n",
            "[0.87078996 0.87109614 0.87124923 0.86650337 0.8639008  0.86711574\n",
            " 0.87078996 0.87109614 0.87124923 0.86650337 0.85946111 0.86298224\n",
            " 0.87078996 0.87109614 0.87124923 0.86650337 0.85946111 0.86221678\n",
            " 0.88058788 0.87905695 0.88058788 0.87905695 0.88058788 0.87905695\n",
            " 0.88150643 0.88120024 0.88120024 0.88242498 0.88227189 0.88319045\n",
            " 0.88150643 0.87966932 0.88120024 0.88089406 0.8821188  0.87982241\n",
            " 0.86680955 0.86451317 0.86680955 0.86451317 0.86680955 0.86451317\n",
            " 0.86879976 0.86895285 0.86879976 0.86895285 0.86879976 0.86895285\n",
            " 0.8720147  0.8720147  0.8720147  0.8720147  0.8720147  0.8720147 ]\n",
            "0.8723945930008393\n"
          ]
        }
      ]
    },
    {
      "cell_type": "markdown",
      "metadata": {
        "id": "B9br8Le4fect"
      },
      "source": [
        "##Model Fitting Using best params"
      ]
    },
    {
      "cell_type": "code",
      "metadata": {
        "id": "7GM2XYJAfoM0"
      },
      "source": [
        "new_xgbc=GradientBoostingClassifier(learning_rate=0.1,n_estimators=100,n_iter_no_change=50,subsample=0.8,random_state=7)"
      ],
      "execution_count": null,
      "outputs": []
    },
    {
      "cell_type": "code",
      "metadata": {
        "colab": {
          "base_uri": "https://localhost:8080/"
        },
        "id": "CnepYZwYgx7V",
        "outputId": "48aa8c6b-dc42-480d-a1ce-87b762d5641b"
      },
      "source": [
        "new_xgbc.fit(X_train_new, Y_train_new)"
      ],
      "execution_count": null,
      "outputs": [
        {
          "output_type": "execute_result",
          "data": {
            "text/plain": [
              "GradientBoostingClassifier(ccp_alpha=0.0, criterion='friedman_mse', init=None,\n",
              "                           learning_rate=0.1, loss='deviance', max_depth=3,\n",
              "                           max_features=None, max_leaf_nodes=None,\n",
              "                           min_impurity_decrease=0.0, min_impurity_split=None,\n",
              "                           min_samples_leaf=1, min_samples_split=2,\n",
              "                           min_weight_fraction_leaf=0.0, n_estimators=100,\n",
              "                           n_iter_no_change=50, presort='deprecated',\n",
              "                           random_state=7, subsample=0.8, tol=0.0001,\n",
              "                           validation_fraction=0.1, verbose=0,\n",
              "                           warm_start=False)"
            ]
          },
          "metadata": {},
          "execution_count": 39
        }
      ]
    },
    {
      "cell_type": "code",
      "metadata": {
        "id": "R2FzoA_Fg-93",
        "colab": {
          "base_uri": "https://localhost:8080/"
        },
        "outputId": "b60d1f9a-c930-4ed6-fda1-f0f83bdbe313"
      },
      "source": [
        "Y_pred=new_xgbc.predict(X_test)\n",
        "Y_pred"
      ],
      "execution_count": null,
      "outputs": [
        {
          "output_type": "execute_result",
          "data": {
            "text/plain": [
              "array([0, 0, 0, ..., 0, 0, 1])"
            ]
          },
          "metadata": {},
          "execution_count": 40
        }
      ]
    },
    {
      "cell_type": "code",
      "metadata": {
        "colab": {
          "base_uri": "https://localhost:8080/"
        },
        "id": "JJ08RSDdhM3I",
        "outputId": "35902b46-fa77-41ea-e560-a99754cdc20e"
      },
      "source": [
        "from sklearn.metrics import confusion_matrix,accuracy_score\n",
        "cf=confusion_matrix(Y_test,Y_pred)\n",
        "acc = accuracy_score(Y_test,Y_pred)\n",
        "print(\"Accuracy\",acc)\n",
        "print(\"confusion Matrix\\n\",cf)"
      ],
      "execution_count": null,
      "outputs": [
        {
          "output_type": "stream",
          "name": "stdout",
          "text": [
            "Accuracy 0.8541717245286072\n",
            "confusion Matrix\n",
            " [[9300 1683]\n",
            " [ 119 1255]]\n"
          ]
        }
      ]
    },
    {
      "cell_type": "code",
      "metadata": {
        "colab": {
          "base_uri": "https://localhost:8080/"
        },
        "id": "YovMtCFThTFs",
        "outputId": "83d6aebd-49f5-45c2-87e5-cbd7824fa6cd"
      },
      "source": [
        "from sklearn.metrics import precision_recall_fscore_support\n",
        "precision_recall_fscore_support(Y_test,Y_pred)"
      ],
      "execution_count": null,
      "outputs": [
        {
          "output_type": "execute_result",
          "data": {
            "text/plain": [
              "(array([0.98736596, 0.42716133]),\n",
              " array([0.84676318, 0.91339156]),\n",
              " array([0.91167533, 0.58209647]),\n",
              " array([10983,  1374]))"
            ]
          },
          "metadata": {},
          "execution_count": 42
        }
      ]
    },
    {
      "cell_type": "code",
      "metadata": {
        "colab": {
          "base_uri": "https://localhost:8080/",
          "height": 226
        },
        "id": "HXS-4W-SCNDj",
        "outputId": "283eb278-2e80-4a7a-dd60-b6bcfd6bf325"
      },
      "source": [
        "df.head()"
      ],
      "execution_count": null,
      "outputs": [
        {
          "output_type": "execute_result",
          "data": {
            "text/html": [
              "<div>\n",
              "<style scoped>\n",
              "    .dataframe tbody tr th:only-of-type {\n",
              "        vertical-align: middle;\n",
              "    }\n",
              "\n",
              "    .dataframe tbody tr th {\n",
              "        vertical-align: top;\n",
              "    }\n",
              "\n",
              "    .dataframe thead th {\n",
              "        text-align: right;\n",
              "    }\n",
              "</style>\n",
              "<table border=\"1\" class=\"dataframe\">\n",
              "  <thead>\n",
              "    <tr style=\"text-align: right;\">\n",
              "      <th></th>\n",
              "      <th>age</th>\n",
              "      <th>job</th>\n",
              "      <th>marital</th>\n",
              "      <th>education</th>\n",
              "      <th>default</th>\n",
              "      <th>housing</th>\n",
              "      <th>loan</th>\n",
              "      <th>contact</th>\n",
              "      <th>month</th>\n",
              "      <th>day_of_week</th>\n",
              "      <th>duration</th>\n",
              "      <th>campaign</th>\n",
              "      <th>pdays</th>\n",
              "      <th>previous</th>\n",
              "      <th>poutcome</th>\n",
              "      <th>emp_var_rate</th>\n",
              "      <th>cons_price_idx</th>\n",
              "      <th>cons_conf_idx</th>\n",
              "      <th>euribor3m</th>\n",
              "      <th>nr_employed</th>\n",
              "      <th>y</th>\n",
              "    </tr>\n",
              "  </thead>\n",
              "  <tbody>\n",
              "    <tr>\n",
              "      <th>0</th>\n",
              "      <td>44</td>\n",
              "      <td>blue-collar</td>\n",
              "      <td>married</td>\n",
              "      <td>basic.4y</td>\n",
              "      <td>unknown</td>\n",
              "      <td>yes</td>\n",
              "      <td>no</td>\n",
              "      <td>cellular</td>\n",
              "      <td>aug</td>\n",
              "      <td>thu</td>\n",
              "      <td>210</td>\n",
              "      <td>1</td>\n",
              "      <td>999</td>\n",
              "      <td>0</td>\n",
              "      <td>nonexistent</td>\n",
              "      <td>1.4</td>\n",
              "      <td>93.444</td>\n",
              "      <td>-36.1</td>\n",
              "      <td>4.963</td>\n",
              "      <td>5228.1</td>\n",
              "      <td>0</td>\n",
              "    </tr>\n",
              "    <tr>\n",
              "      <th>1</th>\n",
              "      <td>53</td>\n",
              "      <td>technician</td>\n",
              "      <td>married</td>\n",
              "      <td>unknown</td>\n",
              "      <td>no</td>\n",
              "      <td>no</td>\n",
              "      <td>no</td>\n",
              "      <td>cellular</td>\n",
              "      <td>nov</td>\n",
              "      <td>fri</td>\n",
              "      <td>138</td>\n",
              "      <td>1</td>\n",
              "      <td>999</td>\n",
              "      <td>0</td>\n",
              "      <td>nonexistent</td>\n",
              "      <td>-0.1</td>\n",
              "      <td>93.200</td>\n",
              "      <td>-42.0</td>\n",
              "      <td>4.021</td>\n",
              "      <td>5195.8</td>\n",
              "      <td>0</td>\n",
              "    </tr>\n",
              "    <tr>\n",
              "      <th>2</th>\n",
              "      <td>28</td>\n",
              "      <td>management</td>\n",
              "      <td>single</td>\n",
              "      <td>university.degree</td>\n",
              "      <td>no</td>\n",
              "      <td>yes</td>\n",
              "      <td>no</td>\n",
              "      <td>cellular</td>\n",
              "      <td>jun</td>\n",
              "      <td>thu</td>\n",
              "      <td>339</td>\n",
              "      <td>3</td>\n",
              "      <td>6</td>\n",
              "      <td>2</td>\n",
              "      <td>success</td>\n",
              "      <td>-1.7</td>\n",
              "      <td>94.055</td>\n",
              "      <td>-39.8</td>\n",
              "      <td>0.729</td>\n",
              "      <td>4991.6</td>\n",
              "      <td>1</td>\n",
              "    </tr>\n",
              "    <tr>\n",
              "      <th>3</th>\n",
              "      <td>39</td>\n",
              "      <td>services</td>\n",
              "      <td>married</td>\n",
              "      <td>high.school</td>\n",
              "      <td>no</td>\n",
              "      <td>no</td>\n",
              "      <td>no</td>\n",
              "      <td>cellular</td>\n",
              "      <td>apr</td>\n",
              "      <td>fri</td>\n",
              "      <td>185</td>\n",
              "      <td>2</td>\n",
              "      <td>999</td>\n",
              "      <td>0</td>\n",
              "      <td>nonexistent</td>\n",
              "      <td>-1.8</td>\n",
              "      <td>93.075</td>\n",
              "      <td>-47.1</td>\n",
              "      <td>1.405</td>\n",
              "      <td>5099.1</td>\n",
              "      <td>0</td>\n",
              "    </tr>\n",
              "    <tr>\n",
              "      <th>4</th>\n",
              "      <td>55</td>\n",
              "      <td>retired</td>\n",
              "      <td>married</td>\n",
              "      <td>basic.4y</td>\n",
              "      <td>no</td>\n",
              "      <td>yes</td>\n",
              "      <td>no</td>\n",
              "      <td>cellular</td>\n",
              "      <td>aug</td>\n",
              "      <td>fri</td>\n",
              "      <td>137</td>\n",
              "      <td>1</td>\n",
              "      <td>3</td>\n",
              "      <td>1</td>\n",
              "      <td>success</td>\n",
              "      <td>-2.9</td>\n",
              "      <td>92.201</td>\n",
              "      <td>-31.4</td>\n",
              "      <td>0.869</td>\n",
              "      <td>5076.2</td>\n",
              "      <td>1</td>\n",
              "    </tr>\n",
              "  </tbody>\n",
              "</table>\n",
              "</div>"
            ],
            "text/plain": [
              "   age          job  marital  ... euribor3m nr_employed  y\n",
              "0   44  blue-collar  married  ...     4.963      5228.1  0\n",
              "1   53   technician  married  ...     4.021      5195.8  0\n",
              "2   28   management   single  ...     0.729      4991.6  1\n",
              "3   39     services  married  ...     1.405      5099.1  0\n",
              "4   55      retired  married  ...     0.869      5076.2  1\n",
              "\n",
              "[5 rows x 21 columns]"
            ]
          },
          "metadata": {},
          "execution_count": 43
        }
      ]
    },
    {
      "cell_type": "code",
      "metadata": {
        "colab": {
          "base_uri": "https://localhost:8080/",
          "height": 243
        },
        "id": "o8MIgGfNzAuB",
        "outputId": "7b3bb647-2679-4e20-b6b3-131b983d0363"
      },
      "source": [
        "X_test.tail()"
      ],
      "execution_count": null,
      "outputs": [
        {
          "output_type": "execute_result",
          "data": {
            "text/html": [
              "<div>\n",
              "<style scoped>\n",
              "    .dataframe tbody tr th:only-of-type {\n",
              "        vertical-align: middle;\n",
              "    }\n",
              "\n",
              "    .dataframe tbody tr th {\n",
              "        vertical-align: top;\n",
              "    }\n",
              "\n",
              "    .dataframe thead th {\n",
              "        text-align: right;\n",
              "    }\n",
              "</style>\n",
              "<table border=\"1\" class=\"dataframe\">\n",
              "  <thead>\n",
              "    <tr style=\"text-align: right;\">\n",
              "      <th></th>\n",
              "      <th>age</th>\n",
              "      <th>duration</th>\n",
              "      <th>campaign</th>\n",
              "      <th>pdays</th>\n",
              "      <th>previous</th>\n",
              "      <th>emp_var_rate</th>\n",
              "      <th>cons_price_idx</th>\n",
              "      <th>cons_conf_idx</th>\n",
              "      <th>euribor3m</th>\n",
              "      <th>nr_employed</th>\n",
              "      <th>job_admin.</th>\n",
              "      <th>job_blue-collar</th>\n",
              "      <th>job_entrepreneur</th>\n",
              "      <th>job_housemaid</th>\n",
              "      <th>job_management</th>\n",
              "      <th>job_retired</th>\n",
              "      <th>job_self-employed</th>\n",
              "      <th>job_services</th>\n",
              "      <th>job_student</th>\n",
              "      <th>job_technician</th>\n",
              "      <th>job_unemployed</th>\n",
              "      <th>job_unknown</th>\n",
              "      <th>marital_divorced</th>\n",
              "      <th>marital_married</th>\n",
              "      <th>marital_single</th>\n",
              "      <th>marital_unknown</th>\n",
              "      <th>education_basic.4y</th>\n",
              "      <th>education_basic.6y</th>\n",
              "      <th>education_basic.9y</th>\n",
              "      <th>education_high.school</th>\n",
              "      <th>education_illiterate</th>\n",
              "      <th>education_professional.course</th>\n",
              "      <th>education_university.degree</th>\n",
              "      <th>education_unknown</th>\n",
              "      <th>default_no</th>\n",
              "      <th>default_unknown</th>\n",
              "      <th>default_yes</th>\n",
              "      <th>housing_no</th>\n",
              "      <th>housing_unknown</th>\n",
              "      <th>housing_yes</th>\n",
              "      <th>loan_no</th>\n",
              "      <th>loan_unknown</th>\n",
              "      <th>loan_yes</th>\n",
              "      <th>contact_cellular</th>\n",
              "      <th>contact_telephone</th>\n",
              "      <th>month_apr</th>\n",
              "      <th>month_aug</th>\n",
              "      <th>month_dec</th>\n",
              "      <th>month_jul</th>\n",
              "      <th>month_jun</th>\n",
              "      <th>month_mar</th>\n",
              "      <th>month_may</th>\n",
              "      <th>month_nov</th>\n",
              "      <th>month_oct</th>\n",
              "      <th>month_sep</th>\n",
              "      <th>day_of_week_fri</th>\n",
              "      <th>day_of_week_mon</th>\n",
              "      <th>day_of_week_thu</th>\n",
              "      <th>day_of_week_tue</th>\n",
              "      <th>day_of_week_wed</th>\n",
              "      <th>poutcome_failure</th>\n",
              "      <th>poutcome_nonexistent</th>\n",
              "      <th>poutcome_success</th>\n",
              "    </tr>\n",
              "  </thead>\n",
              "  <tbody>\n",
              "    <tr>\n",
              "      <th>18401</th>\n",
              "      <td>31</td>\n",
              "      <td>528</td>\n",
              "      <td>1</td>\n",
              "      <td>999</td>\n",
              "      <td>0</td>\n",
              "      <td>1.1</td>\n",
              "      <td>93.994</td>\n",
              "      <td>-36.4</td>\n",
              "      <td>4.855</td>\n",
              "      <td>5191.0</td>\n",
              "      <td>0</td>\n",
              "      <td>0</td>\n",
              "      <td>0</td>\n",
              "      <td>0</td>\n",
              "      <td>0</td>\n",
              "      <td>0</td>\n",
              "      <td>0</td>\n",
              "      <td>0</td>\n",
              "      <td>0</td>\n",
              "      <td>1</td>\n",
              "      <td>0</td>\n",
              "      <td>0</td>\n",
              "      <td>0</td>\n",
              "      <td>1</td>\n",
              "      <td>0</td>\n",
              "      <td>0</td>\n",
              "      <td>0</td>\n",
              "      <td>0</td>\n",
              "      <td>0</td>\n",
              "      <td>0</td>\n",
              "      <td>0</td>\n",
              "      <td>1</td>\n",
              "      <td>0</td>\n",
              "      <td>0</td>\n",
              "      <td>1</td>\n",
              "      <td>0</td>\n",
              "      <td>0</td>\n",
              "      <td>1</td>\n",
              "      <td>0</td>\n",
              "      <td>0</td>\n",
              "      <td>1</td>\n",
              "      <td>0</td>\n",
              "      <td>0</td>\n",
              "      <td>0</td>\n",
              "      <td>1</td>\n",
              "      <td>0</td>\n",
              "      <td>0</td>\n",
              "      <td>0</td>\n",
              "      <td>0</td>\n",
              "      <td>0</td>\n",
              "      <td>0</td>\n",
              "      <td>1</td>\n",
              "      <td>0</td>\n",
              "      <td>0</td>\n",
              "      <td>0</td>\n",
              "      <td>0</td>\n",
              "      <td>0</td>\n",
              "      <td>1</td>\n",
              "      <td>0</td>\n",
              "      <td>0</td>\n",
              "      <td>0</td>\n",
              "      <td>1</td>\n",
              "      <td>0</td>\n",
              "    </tr>\n",
              "    <tr>\n",
              "      <th>8291</th>\n",
              "      <td>34</td>\n",
              "      <td>156</td>\n",
              "      <td>1</td>\n",
              "      <td>999</td>\n",
              "      <td>0</td>\n",
              "      <td>1.1</td>\n",
              "      <td>93.994</td>\n",
              "      <td>-36.4</td>\n",
              "      <td>4.857</td>\n",
              "      <td>5191.0</td>\n",
              "      <td>0</td>\n",
              "      <td>1</td>\n",
              "      <td>0</td>\n",
              "      <td>0</td>\n",
              "      <td>0</td>\n",
              "      <td>0</td>\n",
              "      <td>0</td>\n",
              "      <td>0</td>\n",
              "      <td>0</td>\n",
              "      <td>0</td>\n",
              "      <td>0</td>\n",
              "      <td>0</td>\n",
              "      <td>0</td>\n",
              "      <td>0</td>\n",
              "      <td>1</td>\n",
              "      <td>0</td>\n",
              "      <td>0</td>\n",
              "      <td>0</td>\n",
              "      <td>0</td>\n",
              "      <td>0</td>\n",
              "      <td>0</td>\n",
              "      <td>0</td>\n",
              "      <td>1</td>\n",
              "      <td>0</td>\n",
              "      <td>1</td>\n",
              "      <td>0</td>\n",
              "      <td>0</td>\n",
              "      <td>1</td>\n",
              "      <td>0</td>\n",
              "      <td>0</td>\n",
              "      <td>1</td>\n",
              "      <td>0</td>\n",
              "      <td>0</td>\n",
              "      <td>0</td>\n",
              "      <td>1</td>\n",
              "      <td>0</td>\n",
              "      <td>0</td>\n",
              "      <td>0</td>\n",
              "      <td>0</td>\n",
              "      <td>0</td>\n",
              "      <td>0</td>\n",
              "      <td>1</td>\n",
              "      <td>0</td>\n",
              "      <td>0</td>\n",
              "      <td>0</td>\n",
              "      <td>0</td>\n",
              "      <td>0</td>\n",
              "      <td>0</td>\n",
              "      <td>0</td>\n",
              "      <td>1</td>\n",
              "      <td>0</td>\n",
              "      <td>1</td>\n",
              "      <td>0</td>\n",
              "    </tr>\n",
              "    <tr>\n",
              "      <th>13874</th>\n",
              "      <td>47</td>\n",
              "      <td>252</td>\n",
              "      <td>2</td>\n",
              "      <td>999</td>\n",
              "      <td>0</td>\n",
              "      <td>1.4</td>\n",
              "      <td>94.465</td>\n",
              "      <td>-41.8</td>\n",
              "      <td>4.967</td>\n",
              "      <td>5228.1</td>\n",
              "      <td>0</td>\n",
              "      <td>1</td>\n",
              "      <td>0</td>\n",
              "      <td>0</td>\n",
              "      <td>0</td>\n",
              "      <td>0</td>\n",
              "      <td>0</td>\n",
              "      <td>0</td>\n",
              "      <td>0</td>\n",
              "      <td>0</td>\n",
              "      <td>0</td>\n",
              "      <td>0</td>\n",
              "      <td>0</td>\n",
              "      <td>1</td>\n",
              "      <td>0</td>\n",
              "      <td>0</td>\n",
              "      <td>1</td>\n",
              "      <td>0</td>\n",
              "      <td>0</td>\n",
              "      <td>0</td>\n",
              "      <td>0</td>\n",
              "      <td>0</td>\n",
              "      <td>0</td>\n",
              "      <td>0</td>\n",
              "      <td>1</td>\n",
              "      <td>0</td>\n",
              "      <td>0</td>\n",
              "      <td>0</td>\n",
              "      <td>0</td>\n",
              "      <td>1</td>\n",
              "      <td>1</td>\n",
              "      <td>0</td>\n",
              "      <td>0</td>\n",
              "      <td>0</td>\n",
              "      <td>1</td>\n",
              "      <td>0</td>\n",
              "      <td>0</td>\n",
              "      <td>0</td>\n",
              "      <td>0</td>\n",
              "      <td>1</td>\n",
              "      <td>0</td>\n",
              "      <td>0</td>\n",
              "      <td>0</td>\n",
              "      <td>0</td>\n",
              "      <td>0</td>\n",
              "      <td>1</td>\n",
              "      <td>0</td>\n",
              "      <td>0</td>\n",
              "      <td>0</td>\n",
              "      <td>0</td>\n",
              "      <td>0</td>\n",
              "      <td>1</td>\n",
              "      <td>0</td>\n",
              "    </tr>\n",
              "    <tr>\n",
              "      <th>2272</th>\n",
              "      <td>31</td>\n",
              "      <td>297</td>\n",
              "      <td>3</td>\n",
              "      <td>999</td>\n",
              "      <td>0</td>\n",
              "      <td>1.1</td>\n",
              "      <td>93.994</td>\n",
              "      <td>-36.4</td>\n",
              "      <td>4.860</td>\n",
              "      <td>5191.0</td>\n",
              "      <td>0</td>\n",
              "      <td>0</td>\n",
              "      <td>0</td>\n",
              "      <td>0</td>\n",
              "      <td>0</td>\n",
              "      <td>0</td>\n",
              "      <td>0</td>\n",
              "      <td>1</td>\n",
              "      <td>0</td>\n",
              "      <td>0</td>\n",
              "      <td>0</td>\n",
              "      <td>0</td>\n",
              "      <td>0</td>\n",
              "      <td>1</td>\n",
              "      <td>0</td>\n",
              "      <td>0</td>\n",
              "      <td>0</td>\n",
              "      <td>1</td>\n",
              "      <td>0</td>\n",
              "      <td>0</td>\n",
              "      <td>0</td>\n",
              "      <td>0</td>\n",
              "      <td>0</td>\n",
              "      <td>0</td>\n",
              "      <td>0</td>\n",
              "      <td>1</td>\n",
              "      <td>0</td>\n",
              "      <td>0</td>\n",
              "      <td>0</td>\n",
              "      <td>1</td>\n",
              "      <td>1</td>\n",
              "      <td>0</td>\n",
              "      <td>0</td>\n",
              "      <td>0</td>\n",
              "      <td>1</td>\n",
              "      <td>0</td>\n",
              "      <td>0</td>\n",
              "      <td>0</td>\n",
              "      <td>0</td>\n",
              "      <td>0</td>\n",
              "      <td>0</td>\n",
              "      <td>1</td>\n",
              "      <td>0</td>\n",
              "      <td>0</td>\n",
              "      <td>0</td>\n",
              "      <td>0</td>\n",
              "      <td>0</td>\n",
              "      <td>1</td>\n",
              "      <td>0</td>\n",
              "      <td>0</td>\n",
              "      <td>0</td>\n",
              "      <td>1</td>\n",
              "      <td>0</td>\n",
              "    </tr>\n",
              "    <tr>\n",
              "      <th>11103</th>\n",
              "      <td>35</td>\n",
              "      <td>275</td>\n",
              "      <td>1</td>\n",
              "      <td>6</td>\n",
              "      <td>2</td>\n",
              "      <td>-1.7</td>\n",
              "      <td>94.215</td>\n",
              "      <td>-40.3</td>\n",
              "      <td>0.889</td>\n",
              "      <td>4991.6</td>\n",
              "      <td>0</td>\n",
              "      <td>1</td>\n",
              "      <td>0</td>\n",
              "      <td>0</td>\n",
              "      <td>0</td>\n",
              "      <td>0</td>\n",
              "      <td>0</td>\n",
              "      <td>0</td>\n",
              "      <td>0</td>\n",
              "      <td>0</td>\n",
              "      <td>0</td>\n",
              "      <td>0</td>\n",
              "      <td>0</td>\n",
              "      <td>1</td>\n",
              "      <td>0</td>\n",
              "      <td>0</td>\n",
              "      <td>0</td>\n",
              "      <td>0</td>\n",
              "      <td>1</td>\n",
              "      <td>0</td>\n",
              "      <td>0</td>\n",
              "      <td>0</td>\n",
              "      <td>0</td>\n",
              "      <td>0</td>\n",
              "      <td>1</td>\n",
              "      <td>0</td>\n",
              "      <td>0</td>\n",
              "      <td>0</td>\n",
              "      <td>0</td>\n",
              "      <td>1</td>\n",
              "      <td>1</td>\n",
              "      <td>0</td>\n",
              "      <td>0</td>\n",
              "      <td>1</td>\n",
              "      <td>0</td>\n",
              "      <td>0</td>\n",
              "      <td>0</td>\n",
              "      <td>0</td>\n",
              "      <td>1</td>\n",
              "      <td>0</td>\n",
              "      <td>0</td>\n",
              "      <td>0</td>\n",
              "      <td>0</td>\n",
              "      <td>0</td>\n",
              "      <td>0</td>\n",
              "      <td>0</td>\n",
              "      <td>1</td>\n",
              "      <td>0</td>\n",
              "      <td>0</td>\n",
              "      <td>0</td>\n",
              "      <td>0</td>\n",
              "      <td>0</td>\n",
              "      <td>1</td>\n",
              "    </tr>\n",
              "  </tbody>\n",
              "</table>\n",
              "</div>"
            ],
            "text/plain": [
              "       age  duration  ...  poutcome_nonexistent  poutcome_success\n",
              "18401   31       528  ...                     1                 0\n",
              "8291    34       156  ...                     1                 0\n",
              "13874   47       252  ...                     1                 0\n",
              "2272    31       297  ...                     1                 0\n",
              "11103   35       275  ...                     0                 1\n",
              "\n",
              "[5 rows x 63 columns]"
            ]
          },
          "metadata": {},
          "execution_count": 51
        }
      ]
    },
    {
      "cell_type": "code",
      "metadata": {
        "id": "QIDMkJVKz6ka"
      },
      "source": [
        "import numpy as np\n",
        "new=np.array([50,87,1,999,0,1.1,93.994,-36.4,4.857,5191.0,0,0,0,0,0,0,0,1,0,0,0,0,0,1,0,0,0,0,0,1,0,0,0,0,1,0,0,1,0,0,1,0,0,0,1,0,0,0,0,0,0,1,0,0,0,0,0,0,1,0,0,1,0])"
      ],
      "execution_count": null,
      "outputs": []
    },
    {
      "cell_type": "code",
      "metadata": {
        "colab": {
          "base_uri": "https://localhost:8080/"
        },
        "id": "Yc43EI6C3wjX",
        "outputId": "d45ff179-0c9c-4215-e2da-ca5bd5ce5424"
      },
      "source": [
        "type(new)"
      ],
      "execution_count": null,
      "outputs": [
        {
          "output_type": "execute_result",
          "data": {
            "text/plain": [
              "numpy.ndarray"
            ]
          },
          "metadata": {},
          "execution_count": 47
        }
      ]
    },
    {
      "cell_type": "code",
      "metadata": {
        "id": "g1vr1F_929_v"
      },
      "source": [
        "a=new.reshape(1,-1)"
      ],
      "execution_count": null,
      "outputs": []
    },
    {
      "cell_type": "code",
      "metadata": {
        "colab": {
          "base_uri": "https://localhost:8080/"
        },
        "id": "Wimss5R01qxL",
        "outputId": "c57aadfc-9e7c-4ac5-f8ef-6acea1fe92ba"
      },
      "source": [
        "y_pred=new_xgbc.predict(a)\n",
        "y_pred"
      ],
      "execution_count": null,
      "outputs": [
        {
          "output_type": "execute_result",
          "data": {
            "text/plain": [
              "array([0])"
            ]
          },
          "metadata": {},
          "execution_count": 49
        }
      ]
    },
    {
      "cell_type": "code",
      "metadata": {
        "colab": {
          "base_uri": "https://localhost:8080/"
        },
        "id": "lqb-6ULaECFL",
        "outputId": "c91f735c-eb88-42b4-e0c4-4d707cfb3e0d"
      },
      "source": [
        "y=Y_test.tail(1)\n",
        "y"
      ],
      "execution_count": null,
      "outputs": [
        {
          "output_type": "execute_result",
          "data": {
            "text/plain": [
              "11103    1\n",
              "Name: y, dtype: int64"
            ]
          },
          "metadata": {},
          "execution_count": 61
        }
      ]
    },
    {
      "cell_type": "code",
      "metadata": {
        "colab": {
          "base_uri": "https://localhost:8080/"
        },
        "id": "tXauRsuH2wxw",
        "outputId": "f57b77b7-19be-4850-f3ae-37aa107b3719"
      },
      "source": [
        "acc = accuracy_score(y,y_pred)\n",
        "acc"
      ],
      "execution_count": null,
      "outputs": [
        {
          "output_type": "execute_result",
          "data": {
            "text/plain": [
              "1.0"
            ]
          },
          "metadata": {},
          "execution_count": 134
        }
      ]
    },
    {
      "cell_type": "code",
      "metadata": {
        "id": "tm7knngMEJpA"
      },
      "source": [
        "new1=np.array([35,275,1,6,2,-1.7,94.215,-40.3,0.889,4991.6,0,1,0,0,0,0,0,0,0,0,0,0,0,1,0,0,0,0,1,0,0,0,0,0,1,0,0,0,0,1,1,0,0,1,0,0,0,0,1,0,0,0,0,0,0,0,1,0,0,0,0,0,1])"
      ],
      "execution_count": null,
      "outputs": []
    },
    {
      "cell_type": "code",
      "metadata": {
        "colab": {
          "base_uri": "https://localhost:8080/"
        },
        "id": "z6VkIVvw-gF3",
        "outputId": "4c7e6c41-d294-4e2d-8c78-022548d363fd"
      },
      "source": [
        "type(new1)"
      ],
      "execution_count": null,
      "outputs": [
        {
          "output_type": "execute_result",
          "data": {
            "text/plain": [
              "numpy.ndarray"
            ]
          },
          "metadata": {},
          "execution_count": 54
        }
      ]
    },
    {
      "cell_type": "code",
      "metadata": {
        "id": "GivZCDgN-sge"
      },
      "source": [
        "b=new1.reshape(1,-1)"
      ],
      "execution_count": null,
      "outputs": []
    },
    {
      "cell_type": "code",
      "metadata": {
        "colab": {
          "base_uri": "https://localhost:8080/"
        },
        "id": "2Z-N33ZI-iUV",
        "outputId": "b489b386-de1b-4213-ef74-d7bed87ba018"
      },
      "source": [
        "y_pred=new_xgbc.predict(b)\n",
        "y_pred"
      ],
      "execution_count": null,
      "outputs": [
        {
          "output_type": "execute_result",
          "data": {
            "text/plain": [
              "array([1])"
            ]
          },
          "metadata": {},
          "execution_count": 57
        }
      ]
    },
    {
      "cell_type": "code",
      "metadata": {
        "colab": {
          "base_uri": "https://localhost:8080/"
        },
        "id": "Puo6K3MI-7D0",
        "outputId": "3c2c2720-d4b0-49af-d599-faf8721e77a3"
      },
      "source": [
        "acc = accuracy_score(y,y_pred)\n",
        "acc"
      ],
      "execution_count": null,
      "outputs": [
        {
          "output_type": "execute_result",
          "data": {
            "text/plain": [
              "1.0"
            ]
          },
          "metadata": {},
          "execution_count": 62
        }
      ]
    },
    {
      "cell_type": "code",
      "metadata": {
        "id": "fesBmTrXB-S7"
      },
      "source": [
        ""
      ],
      "execution_count": null,
      "outputs": []
    }
  ]
}